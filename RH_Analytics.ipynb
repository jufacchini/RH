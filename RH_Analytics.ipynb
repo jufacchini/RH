{
 "cells": [
  {
   "cell_type": "markdown",
   "metadata": {},
   "source": [
    "## Business questions to brainstorm:\n",
    "What factors are contributing more to employee attrition?\n",
    "\n",
    "What type of measures should the company take in order to retain their employees?\n",
    "\n",
    "What business value does the model bring?\n",
    "\n",
    "Will the model save lots of money?\n",
    "\n",
    "Which business unit faces the attrition problem?"
   ]
  },
  {
   "cell_type": "code",
   "execution_count": 1,
   "metadata": {},
   "outputs": [],
   "source": [
    "#Importando as bibliotecas\n",
    "import pandas as pd\n",
    "import numpy as np\n",
    "import seaborn as sns\n",
    "import matplotlib.pyplot as plt\n",
    "%matplotlib inline\n",
    "\n",
    "from sklearn.preprocessing import LabelEncoder\n",
    "import statsmodels.api as sm\n",
    "from statsmodels.stats.outliers_influence import variance_inflation_factor\n",
    "from sklearn.model_selection import train_test_split\n",
    "from sklearn.preprocessing import StandardScaler\n",
    "from sklearn.metrics import confusion_matrix\n",
    "from sklearn.ensemble import RandomForestClassifier\n",
    "from sklearn.feature_selection import RFECV\n",
    "from sklearn.model_selection import StratifiedKFold\n",
    "\n",
    "from pylab import rcParams\n",
    "\n",
    "\n",
    "import warnings\n",
    "warnings.filterwarnings('ignore')"
   ]
  },
  {
   "cell_type": "code",
   "execution_count": 2,
   "metadata": {},
   "outputs": [],
   "source": [
    "#Carregando dados\n",
    "data = pd.read_csv('dataset.csv')"
   ]
  },
  {
   "cell_type": "code",
   "execution_count": 3,
   "metadata": {},
   "outputs": [
    {
     "data": {
      "text/html": [
       "<div>\n",
       "<style scoped>\n",
       "    .dataframe tbody tr th:only-of-type {\n",
       "        vertical-align: middle;\n",
       "    }\n",
       "\n",
       "    .dataframe tbody tr th {\n",
       "        vertical-align: top;\n",
       "    }\n",
       "\n",
       "    .dataframe thead th {\n",
       "        text-align: right;\n",
       "    }\n",
       "</style>\n",
       "<table border=\"1\" class=\"dataframe\">\n",
       "  <thead>\n",
       "    <tr style=\"text-align: right;\">\n",
       "      <th></th>\n",
       "      <th>Age</th>\n",
       "      <th>Attrition</th>\n",
       "      <th>BusinessTravel</th>\n",
       "      <th>Department</th>\n",
       "      <th>DistanceFromHome</th>\n",
       "      <th>Education</th>\n",
       "      <th>EducationField</th>\n",
       "      <th>EnvironmentSatisfaction</th>\n",
       "      <th>Gender</th>\n",
       "      <th>JobInvolvement</th>\n",
       "      <th>...</th>\n",
       "      <th>StockOptionLevel</th>\n",
       "      <th>TotalWorkingYears</th>\n",
       "      <th>TrainingTimesLastYear</th>\n",
       "      <th>WorkLifeBalance</th>\n",
       "      <th>YearsAtCompany</th>\n",
       "      <th>YearsInCurrentRole</th>\n",
       "      <th>YearsSinceLastPromotion</th>\n",
       "      <th>YearsWithCurrManager</th>\n",
       "      <th>Employee Source</th>\n",
       "      <th>AgeStartedWorking</th>\n",
       "    </tr>\n",
       "  </thead>\n",
       "  <tbody>\n",
       "    <tr>\n",
       "      <th>0</th>\n",
       "      <td>41</td>\n",
       "      <td>Voluntary Resignation</td>\n",
       "      <td>Travel_Rarely</td>\n",
       "      <td>Sales</td>\n",
       "      <td>1</td>\n",
       "      <td>2</td>\n",
       "      <td>Life Sciences</td>\n",
       "      <td>2</td>\n",
       "      <td>Female</td>\n",
       "      <td>3</td>\n",
       "      <td>...</td>\n",
       "      <td>0</td>\n",
       "      <td>8</td>\n",
       "      <td>0</td>\n",
       "      <td>1</td>\n",
       "      <td>6</td>\n",
       "      <td>4</td>\n",
       "      <td>0</td>\n",
       "      <td>5</td>\n",
       "      <td>Referral</td>\n",
       "      <td>33</td>\n",
       "    </tr>\n",
       "    <tr>\n",
       "      <th>1</th>\n",
       "      <td>37</td>\n",
       "      <td>Voluntary Resignation</td>\n",
       "      <td>Travel_Rarely</td>\n",
       "      <td>Human Resources</td>\n",
       "      <td>6</td>\n",
       "      <td>4</td>\n",
       "      <td>Human Resources</td>\n",
       "      <td>1</td>\n",
       "      <td>Female</td>\n",
       "      <td>3</td>\n",
       "      <td>...</td>\n",
       "      <td>0</td>\n",
       "      <td>8</td>\n",
       "      <td>0</td>\n",
       "      <td>1</td>\n",
       "      <td>6</td>\n",
       "      <td>4</td>\n",
       "      <td>0</td>\n",
       "      <td>5</td>\n",
       "      <td>Referral</td>\n",
       "      <td>29</td>\n",
       "    </tr>\n",
       "    <tr>\n",
       "      <th>2</th>\n",
       "      <td>41</td>\n",
       "      <td>Voluntary Resignation</td>\n",
       "      <td>Travel_Rarely</td>\n",
       "      <td>Sales</td>\n",
       "      <td>1</td>\n",
       "      <td>2</td>\n",
       "      <td>Life Sciences</td>\n",
       "      <td>2</td>\n",
       "      <td>Female</td>\n",
       "      <td>3</td>\n",
       "      <td>...</td>\n",
       "      <td>0</td>\n",
       "      <td>8</td>\n",
       "      <td>0</td>\n",
       "      <td>1</td>\n",
       "      <td>6</td>\n",
       "      <td>4</td>\n",
       "      <td>0</td>\n",
       "      <td>5</td>\n",
       "      <td>Referral</td>\n",
       "      <td>33</td>\n",
       "    </tr>\n",
       "    <tr>\n",
       "      <th>3</th>\n",
       "      <td>37</td>\n",
       "      <td>Voluntary Resignation</td>\n",
       "      <td>Travel_Rarely</td>\n",
       "      <td>Human Resources</td>\n",
       "      <td>6</td>\n",
       "      <td>4</td>\n",
       "      <td>Marketing</td>\n",
       "      <td>1</td>\n",
       "      <td>Female</td>\n",
       "      <td>3</td>\n",
       "      <td>...</td>\n",
       "      <td>0</td>\n",
       "      <td>8</td>\n",
       "      <td>0</td>\n",
       "      <td>1</td>\n",
       "      <td>6</td>\n",
       "      <td>4</td>\n",
       "      <td>0</td>\n",
       "      <td>5</td>\n",
       "      <td>Referral</td>\n",
       "      <td>29</td>\n",
       "    </tr>\n",
       "    <tr>\n",
       "      <th>4</th>\n",
       "      <td>37</td>\n",
       "      <td>Voluntary Resignation</td>\n",
       "      <td>Travel_Rarely</td>\n",
       "      <td>Human Resources</td>\n",
       "      <td>6</td>\n",
       "      <td>4</td>\n",
       "      <td>Human Resources</td>\n",
       "      <td>1</td>\n",
       "      <td>Female</td>\n",
       "      <td>3</td>\n",
       "      <td>...</td>\n",
       "      <td>0</td>\n",
       "      <td>8</td>\n",
       "      <td>0</td>\n",
       "      <td>1</td>\n",
       "      <td>6</td>\n",
       "      <td>4</td>\n",
       "      <td>0</td>\n",
       "      <td>5</td>\n",
       "      <td>Referral</td>\n",
       "      <td>29</td>\n",
       "    </tr>\n",
       "  </tbody>\n",
       "</table>\n",
       "<p>5 rows × 30 columns</p>\n",
       "</div>"
      ],
      "text/plain": [
       "   Age              Attrition BusinessTravel       Department  \\\n",
       "0   41  Voluntary Resignation  Travel_Rarely            Sales   \n",
       "1   37  Voluntary Resignation  Travel_Rarely  Human Resources   \n",
       "2   41  Voluntary Resignation  Travel_Rarely            Sales   \n",
       "3   37  Voluntary Resignation  Travel_Rarely  Human Resources   \n",
       "4   37  Voluntary Resignation  Travel_Rarely  Human Resources   \n",
       "\n",
       "   DistanceFromHome  Education   EducationField  EnvironmentSatisfaction  \\\n",
       "0                 1          2    Life Sciences                        2   \n",
       "1                 6          4  Human Resources                        1   \n",
       "2                 1          2    Life Sciences                        2   \n",
       "3                 6          4        Marketing                        1   \n",
       "4                 6          4  Human Resources                        1   \n",
       "\n",
       "   Gender  JobInvolvement  ...  StockOptionLevel TotalWorkingYears  \\\n",
       "0  Female               3  ...                 0                 8   \n",
       "1  Female               3  ...                 0                 8   \n",
       "2  Female               3  ...                 0                 8   \n",
       "3  Female               3  ...                 0                 8   \n",
       "4  Female               3  ...                 0                 8   \n",
       "\n",
       "   TrainingTimesLastYear WorkLifeBalance  YearsAtCompany  YearsInCurrentRole  \\\n",
       "0                      0               1               6                   4   \n",
       "1                      0               1               6                   4   \n",
       "2                      0               1               6                   4   \n",
       "3                      0               1               6                   4   \n",
       "4                      0               1               6                   4   \n",
       "\n",
       "  YearsSinceLastPromotion  YearsWithCurrManager  Employee Source  \\\n",
       "0                       0                     5         Referral   \n",
       "1                       0                     5         Referral   \n",
       "2                       0                     5         Referral   \n",
       "3                       0                     5         Referral   \n",
       "4                       0                     5         Referral   \n",
       "\n",
       "   AgeStartedWorking  \n",
       "0                 33  \n",
       "1                 29  \n",
       "2                 33  \n",
       "3                 29  \n",
       "4                 29  \n",
       "\n",
       "[5 rows x 30 columns]"
      ]
     },
     "execution_count": 3,
     "metadata": {},
     "output_type": "execute_result"
    }
   ],
   "source": [
    "#Verificando as 5 primeiras linhas\n",
    "data.head()"
   ]
  },
  {
   "cell_type": "code",
   "execution_count": 4,
   "metadata": {},
   "outputs": [
    {
     "data": {
      "text/plain": [
       "(23058, 30)"
      ]
     },
     "execution_count": 4,
     "metadata": {},
     "output_type": "execute_result"
    }
   ],
   "source": [
    "#Verificando o formato\n",
    "data.shape"
   ]
  },
  {
   "cell_type": "code",
   "execution_count": 5,
   "metadata": {},
   "outputs": [
    {
     "data": {
      "text/plain": [
       "Age                          int64\n",
       "Attrition                   object\n",
       "BusinessTravel              object\n",
       "Department                  object\n",
       "DistanceFromHome             int64\n",
       "Education                    int64\n",
       "EducationField              object\n",
       "EnvironmentSatisfaction      int64\n",
       "Gender                      object\n",
       "JobInvolvement               int64\n",
       "JobLevel                     int64\n",
       "JobRole                     object\n",
       "JobSatisfaction              int64\n",
       "MaritalStatus               object\n",
       "MonthlyIncome                int64\n",
       "NumCompaniesWorked           int64\n",
       "OverTime                    object\n",
       "PercentSalaryHike            int64\n",
       "PerformanceRating            int64\n",
       "RelationshipSatisfaction     int64\n",
       "StockOptionLevel             int64\n",
       "TotalWorkingYears            int64\n",
       "TrainingTimesLastYear        int64\n",
       "WorkLifeBalance              int64\n",
       "YearsAtCompany               int64\n",
       "YearsInCurrentRole           int64\n",
       "YearsSinceLastPromotion      int64\n",
       "YearsWithCurrManager         int64\n",
       "Employee Source             object\n",
       "AgeStartedWorking            int64\n",
       "dtype: object"
      ]
     },
     "execution_count": 5,
     "metadata": {},
     "output_type": "execute_result"
    }
   ],
   "source": [
    "#Veriticando o tipo\n",
    "data.dtypes"
   ]
  },
  {
   "cell_type": "code",
   "execution_count": 6,
   "metadata": {},
   "outputs": [
    {
     "data": {
      "text/plain": [
       "Current employee         19370\n",
       "Voluntary Resignation     3601\n",
       "Termination                 87\n",
       "Name: Attrition, dtype: int64"
      ]
     },
     "execution_count": 6,
     "metadata": {},
     "output_type": "execute_result"
    }
   ],
   "source": [
    "#Verificando a variável Attrition\n",
    "data['Attrition'].value_counts()"
   ]
  },
  {
   "cell_type": "code",
   "execution_count": 7,
   "metadata": {},
   "outputs": [
    {
     "data": {
      "text/plain": [
       "3    8930\n",
       "4    6279\n",
       "2    4436\n",
       "1    2659\n",
       "5     754\n",
       "Name: Education, dtype: int64"
      ]
     },
     "execution_count": 7,
     "metadata": {},
     "output_type": "execute_result"
    }
   ],
   "source": [
    "#Verificando a variável Attrition\n",
    "data['Education'].value_counts()"
   ]
  },
  {
   "cell_type": "code",
   "execution_count": 8,
   "metadata": {},
   "outputs": [
    {
     "data": {
      "text/plain": [
       "Travel_Rarely        16336\n",
       "Travel_Frequently     4378\n",
       "Non-Travel            2344\n",
       "Name: BusinessTravel, dtype: int64"
      ]
     },
     "execution_count": 8,
     "metadata": {},
     "output_type": "execute_result"
    }
   ],
   "source": [
    "#Verificando a variável BusinessTravel\n",
    "data['BusinessTravel'].value_counts()"
   ]
  },
  {
   "cell_type": "code",
   "execution_count": 9,
   "metadata": {},
   "outputs": [
    {
     "data": {
      "text/plain": [
       "Research & Development    15040\n",
       "Sales                      7008\n",
       "Human Resources            1010\n",
       "Name: Department, dtype: int64"
      ]
     },
     "execution_count": 9,
     "metadata": {},
     "output_type": "execute_result"
    }
   ],
   "source": [
    "#Verificando a variável Department\n",
    "data['Department'].value_counts()"
   ]
  },
  {
   "cell_type": "code",
   "execution_count": 10,
   "metadata": {},
   "outputs": [
    {
     "data": {
      "text/plain": [
       "Life Sciences       9513\n",
       "Medical             7267\n",
       "Marketing           2484\n",
       "Technical Degree    2061\n",
       "Other               1291\n",
       "Human Resources      442\n",
       "Name: EducationField, dtype: int64"
      ]
     },
     "execution_count": 10,
     "metadata": {},
     "output_type": "execute_result"
    }
   ],
   "source": [
    "#Verificando a variável EducationField\n",
    "data['EducationField'].value_counts()"
   ]
  },
  {
   "cell_type": "code",
   "execution_count": 11,
   "metadata": {},
   "outputs": [
    {
     "data": {
      "text/plain": [
       "Male      13853\n",
       "Female     9205\n",
       "Name: Gender, dtype: int64"
      ]
     },
     "execution_count": 11,
     "metadata": {},
     "output_type": "execute_result"
    }
   ],
   "source": [
    "#Verificando a variável Gender\n",
    "data['Gender'].value_counts()"
   ]
  },
  {
   "cell_type": "code",
   "execution_count": 12,
   "metadata": {},
   "outputs": [
    {
     "data": {
      "text/plain": [
       "Sales Executive              5067\n",
       "Research Scientist           4591\n",
       "Laboratory Technician        4112\n",
       "Manufacturing Director       2346\n",
       "Healthcare Representative    2069\n",
       "Manager                      1521\n",
       "Sales Representative         1307\n",
       "Research Director            1212\n",
       "Human Resources               833\n",
       "Name: JobRole, dtype: int64"
      ]
     },
     "execution_count": 12,
     "metadata": {},
     "output_type": "execute_result"
    }
   ],
   "source": [
    "#Verificando a variável JobRole\n",
    "data['JobRole'].value_counts()"
   ]
  },
  {
   "cell_type": "code",
   "execution_count": 13,
   "metadata": {},
   "outputs": [
    {
     "data": {
      "text/plain": [
       "No     16524\n",
       "Yes     6534\n",
       "Name: OverTime, dtype: int64"
      ]
     },
     "execution_count": 13,
     "metadata": {},
     "output_type": "execute_result"
    }
   ],
   "source": [
    "#Verificando a variável OverTime\n",
    "data['OverTime'].value_counts()"
   ]
  },
  {
   "cell_type": "code",
   "execution_count": 14,
   "metadata": {},
   "outputs": [
    {
     "data": {
      "text/plain": [
       "Company Website    5327\n",
       "Seek               3655\n",
       "Indeed             2471\n",
       "Jora               2408\n",
       "LinkedIn           2294\n",
       "Recruit.net        2283\n",
       "GlassDoor          2136\n",
       "Adzuna             2075\n",
       "Referral            409\n",
       "Name: Employee Source, dtype: int64"
      ]
     },
     "execution_count": 14,
     "metadata": {},
     "output_type": "execute_result"
    }
   ],
   "source": [
    "#Verificando a variável Employee Source\n",
    "data['Employee Source'].value_counts()"
   ]
  },
  {
   "cell_type": "code",
   "execution_count": 15,
   "metadata": {},
   "outputs": [
    {
     "data": {
      "text/plain": [
       "Married     10543\n",
       "Single       7352\n",
       "Divorced     5163\n",
       "Name: MaritalStatus, dtype: int64"
      ]
     },
     "execution_count": 15,
     "metadata": {},
     "output_type": "execute_result"
    }
   ],
   "source": [
    "#Verificando a variável MaritalStatus\n",
    "data['MaritalStatus'].value_counts()"
   ]
  },
  {
   "cell_type": "code",
   "execution_count": 16,
   "metadata": {},
   "outputs": [
    {
     "data": {
      "text/plain": [
       "Age                         0\n",
       "Attrition                   0\n",
       "BusinessTravel              0\n",
       "Department                  0\n",
       "DistanceFromHome            0\n",
       "Education                   0\n",
       "EducationField              0\n",
       "EnvironmentSatisfaction     0\n",
       "Gender                      0\n",
       "JobInvolvement              0\n",
       "JobLevel                    0\n",
       "JobRole                     0\n",
       "JobSatisfaction             0\n",
       "MaritalStatus               0\n",
       "MonthlyIncome               0\n",
       "NumCompaniesWorked          0\n",
       "OverTime                    0\n",
       "PercentSalaryHike           0\n",
       "PerformanceRating           0\n",
       "RelationshipSatisfaction    0\n",
       "StockOptionLevel            0\n",
       "TotalWorkingYears           0\n",
       "TrainingTimesLastYear       0\n",
       "WorkLifeBalance             0\n",
       "YearsAtCompany              0\n",
       "YearsInCurrentRole          0\n",
       "YearsSinceLastPromotion     0\n",
       "YearsWithCurrManager        0\n",
       "Employee Source             0\n",
       "AgeStartedWorking           0\n",
       "dtype: int64"
      ]
     },
     "execution_count": 16,
     "metadata": {},
     "output_type": "execute_result"
    }
   ],
   "source": [
    "#Verificando se há variáveis NaN\n",
    "data.isnull().sum()"
   ]
  },
  {
   "cell_type": "code",
   "execution_count": 17,
   "metadata": {},
   "outputs": [
    {
     "data": {
      "text/plain": [
       "Index(['Age', 'Attrition', 'BusinessTravel', 'Department', 'DistanceFromHome',\n",
       "       'Education', 'EducationField', 'EnvironmentSatisfaction', 'Gender',\n",
       "       'JobInvolvement', 'JobLevel', 'JobRole', 'JobSatisfaction',\n",
       "       'MaritalStatus', 'MonthlyIncome', 'NumCompaniesWorked', 'OverTime',\n",
       "       'PercentSalaryHike', 'PerformanceRating', 'RelationshipSatisfaction',\n",
       "       'StockOptionLevel', 'TotalWorkingYears', 'TrainingTimesLastYear',\n",
       "       'WorkLifeBalance', 'YearsAtCompany', 'YearsInCurrentRole',\n",
       "       'YearsSinceLastPromotion', 'YearsWithCurrManager', 'Employee Source',\n",
       "       'AgeStartedWorking'],\n",
       "      dtype='object')"
      ]
     },
     "execution_count": 17,
     "metadata": {},
     "output_type": "execute_result"
    }
   ],
   "source": [
    "data.columns"
   ]
  },
  {
   "cell_type": "code",
   "execution_count": 18,
   "metadata": {},
   "outputs": [],
   "source": [
    "num_cols = ['Age','DistanceFromHome','MonthlyIncome','NumCompaniesWorked',\n",
    "           'PercentSalaryHike','TotalWorkingYears','TrainingTimesLastYear','YearsAtCompany', \n",
    "            'YearsInCurrentRole','YearsSinceLastPromotion', 'YearsWithCurrManager','AgeStartedWorking']"
   ]
  },
  {
   "cell_type": "code",
   "execution_count": 19,
   "metadata": {},
   "outputs": [
    {
     "data": {
      "text/html": [
       "<div>\n",
       "<style scoped>\n",
       "    .dataframe tbody tr th:only-of-type {\n",
       "        vertical-align: middle;\n",
       "    }\n",
       "\n",
       "    .dataframe tbody tr th {\n",
       "        vertical-align: top;\n",
       "    }\n",
       "\n",
       "    .dataframe thead th {\n",
       "        text-align: right;\n",
       "    }\n",
       "</style>\n",
       "<table border=\"1\" class=\"dataframe\">\n",
       "  <thead>\n",
       "    <tr style=\"text-align: right;\">\n",
       "      <th></th>\n",
       "      <th>Attrition</th>\n",
       "      <th>BusinessTravel</th>\n",
       "      <th>Department</th>\n",
       "      <th>Education</th>\n",
       "      <th>EducationField</th>\n",
       "      <th>EnvironmentSatisfaction</th>\n",
       "      <th>Gender</th>\n",
       "      <th>JobInvolvement</th>\n",
       "      <th>JobLevel</th>\n",
       "      <th>JobRole</th>\n",
       "      <th>JobSatisfaction</th>\n",
       "      <th>MaritalStatus</th>\n",
       "      <th>OverTime</th>\n",
       "      <th>PerformanceRating</th>\n",
       "      <th>RelationshipSatisfaction</th>\n",
       "      <th>StockOptionLevel</th>\n",
       "      <th>WorkLifeBalance</th>\n",
       "      <th>Employee Source</th>\n",
       "    </tr>\n",
       "  </thead>\n",
       "  <tbody>\n",
       "    <tr>\n",
       "      <th>0</th>\n",
       "      <td>2</td>\n",
       "      <td>2</td>\n",
       "      <td>2</td>\n",
       "      <td>1</td>\n",
       "      <td>1</td>\n",
       "      <td>1</td>\n",
       "      <td>0</td>\n",
       "      <td>2</td>\n",
       "      <td>1</td>\n",
       "      <td>7</td>\n",
       "      <td>3</td>\n",
       "      <td>2</td>\n",
       "      <td>1</td>\n",
       "      <td>0</td>\n",
       "      <td>0</td>\n",
       "      <td>0</td>\n",
       "      <td>0</td>\n",
       "      <td>7</td>\n",
       "    </tr>\n",
       "    <tr>\n",
       "      <th>1</th>\n",
       "      <td>2</td>\n",
       "      <td>2</td>\n",
       "      <td>0</td>\n",
       "      <td>3</td>\n",
       "      <td>0</td>\n",
       "      <td>0</td>\n",
       "      <td>0</td>\n",
       "      <td>2</td>\n",
       "      <td>1</td>\n",
       "      <td>7</td>\n",
       "      <td>3</td>\n",
       "      <td>2</td>\n",
       "      <td>1</td>\n",
       "      <td>1</td>\n",
       "      <td>0</td>\n",
       "      <td>0</td>\n",
       "      <td>0</td>\n",
       "      <td>7</td>\n",
       "    </tr>\n",
       "    <tr>\n",
       "      <th>2</th>\n",
       "      <td>2</td>\n",
       "      <td>2</td>\n",
       "      <td>2</td>\n",
       "      <td>1</td>\n",
       "      <td>1</td>\n",
       "      <td>1</td>\n",
       "      <td>0</td>\n",
       "      <td>2</td>\n",
       "      <td>1</td>\n",
       "      <td>7</td>\n",
       "      <td>3</td>\n",
       "      <td>2</td>\n",
       "      <td>1</td>\n",
       "      <td>0</td>\n",
       "      <td>0</td>\n",
       "      <td>0</td>\n",
       "      <td>0</td>\n",
       "      <td>7</td>\n",
       "    </tr>\n",
       "    <tr>\n",
       "      <th>3</th>\n",
       "      <td>2</td>\n",
       "      <td>2</td>\n",
       "      <td>0</td>\n",
       "      <td>3</td>\n",
       "      <td>2</td>\n",
       "      <td>0</td>\n",
       "      <td>0</td>\n",
       "      <td>2</td>\n",
       "      <td>1</td>\n",
       "      <td>7</td>\n",
       "      <td>3</td>\n",
       "      <td>2</td>\n",
       "      <td>1</td>\n",
       "      <td>0</td>\n",
       "      <td>0</td>\n",
       "      <td>0</td>\n",
       "      <td>0</td>\n",
       "      <td>7</td>\n",
       "    </tr>\n",
       "    <tr>\n",
       "      <th>4</th>\n",
       "      <td>2</td>\n",
       "      <td>2</td>\n",
       "      <td>0</td>\n",
       "      <td>3</td>\n",
       "      <td>0</td>\n",
       "      <td>0</td>\n",
       "      <td>0</td>\n",
       "      <td>2</td>\n",
       "      <td>1</td>\n",
       "      <td>7</td>\n",
       "      <td>3</td>\n",
       "      <td>2</td>\n",
       "      <td>1</td>\n",
       "      <td>0</td>\n",
       "      <td>0</td>\n",
       "      <td>0</td>\n",
       "      <td>0</td>\n",
       "      <td>7</td>\n",
       "    </tr>\n",
       "  </tbody>\n",
       "</table>\n",
       "</div>"
      ],
      "text/plain": [
       "   Attrition  BusinessTravel  Department  Education  EducationField  \\\n",
       "0          2               2           2          1               1   \n",
       "1          2               2           0          3               0   \n",
       "2          2               2           2          1               1   \n",
       "3          2               2           0          3               2   \n",
       "4          2               2           0          3               0   \n",
       "\n",
       "   EnvironmentSatisfaction  Gender  JobInvolvement  JobLevel  JobRole  \\\n",
       "0                        1       0               2         1        7   \n",
       "1                        0       0               2         1        7   \n",
       "2                        1       0               2         1        7   \n",
       "3                        0       0               2         1        7   \n",
       "4                        0       0               2         1        7   \n",
       "\n",
       "   JobSatisfaction  MaritalStatus  OverTime  PerformanceRating  \\\n",
       "0                3              2         1                  0   \n",
       "1                3              2         1                  1   \n",
       "2                3              2         1                  0   \n",
       "3                3              2         1                  0   \n",
       "4                3              2         1                  0   \n",
       "\n",
       "   RelationshipSatisfaction  StockOptionLevel  WorkLifeBalance  \\\n",
       "0                         0                 0                0   \n",
       "1                         0                 0                0   \n",
       "2                         0                 0                0   \n",
       "3                         0                 0                0   \n",
       "4                         0                 0                0   \n",
       "\n",
       "   Employee Source  \n",
       "0                7  \n",
       "1                7  \n",
       "2                7  \n",
       "3                7  \n",
       "4                7  "
      ]
     },
     "execution_count": 19,
     "metadata": {},
     "output_type": "execute_result"
    }
   ],
   "source": [
    "#Separando as variáveis qualitativas do dataset\n",
    "#quali_df = data.select_dtypes(include=['object']).copy()\n",
    "quali_df = data.drop(data[num_cols], axis=1)\n",
    "quali_df = quali_df.apply(LabelEncoder().fit_transform)\n",
    "quali_df.head()"
   ]
  },
  {
   "cell_type": "markdown",
   "metadata": {},
   "source": [
    "Agora, vamos verificar a associação presente entre as variáveis qualitativas e a variável target. Para isso,\n",
    "utilizamos a função Cramer-V."
   ]
  },
  {
   "cell_type": "code",
   "execution_count": 20,
   "metadata": {},
   "outputs": [],
   "source": [
    "# Função para calcular a associação entre variáveis categóricas\n",
    "from scipy.stats import chi2_contingency\n",
    "# Função\n",
    "def cramers_v(x, y):\n",
    "    confusion_matrix = pd.crosstab(x, y)\n",
    "    \n",
    "    # Teste qui-quadrado de independência de variáveis em uma tabela de contingência.\n",
    "    chi2 = chi2_contingency(confusion_matrix)[0]\n",
    "    n = confusion_matrix.sum().sum()\n",
    "    phi2 = chi2/n\n",
    "    r,k = confusion_matrix.shape\n",
    "    phi2corr = max(0, phi2-((k-1)*(r-1))/(n-1))\n",
    "    rcorr = r-((r-1)**2)/(n-1)\n",
    "    kcorr = k-((k-1)**2)/(n-1)\n",
    "    return np.sqrt(phi2corr/min((kcorr-1),(rcorr-1)))"
   ]
  },
  {
   "cell_type": "code",
   "execution_count": 21,
   "metadata": {},
   "outputs": [],
   "source": [
    "\n",
    "# Coleta o nome das colunas do dataset\n",
    "\n",
    "# Lista\n",
    "categorical_vars = []\n",
    "\n",
    "# Loop\n",
    "for column in quali_df:\n",
    "    categorical_vars.append(column)"
   ]
  },
  {
   "cell_type": "code",
   "execution_count": 22,
   "metadata": {},
   "outputs": [
    {
     "name": "stdout",
     "output_type": "stream",
     "text": [
      "\n",
      "A Associação é um resultado no intervalo de [0,1], em que 0 significa nenhuma associação e 1 é associação completa.\n",
      "\n",
      "\n",
      "Associação da Variável Attrition com a variável resposta: 1.0\n",
      "Associação da Variável BusinessTravel com a variável resposta: 0.09203282718197954\n",
      "Associação da Variável Department com a variável resposta: 0.06048286790386135\n",
      "Associação da Variável Education com a variável resposta: 0.033555087386196294\n",
      "Associação da Variável EducationField com a variável resposta: 0.05581466411812143\n",
      "Associação da Variável EnvironmentSatisfaction com a variável resposta: 0.03683266521388854\n",
      "Associação da Variável Gender com a variável resposta: 0.00490266186371131\n",
      "Associação da Variável JobInvolvement com a variável resposta: 0.05264029644414822\n",
      "Associação da Variável JobLevel com a variável resposta: 0.08158943769439932\n",
      "Associação da Variável JobRole com a variável resposta: 0.08348972881112551\n",
      "Associação da Variável JobSatisfaction com a variável resposta: 0.045421601247107375\n",
      "Associação da Variável MaritalStatus com a variável resposta: 0.09053743408508073\n",
      "Associação da Variável OverTime com a variável resposta: 0.14567706130908928\n",
      "Associação da Variável PerformanceRating com a variável resposta: 0.0\n",
      "Associação da Variável RelationshipSatisfaction com a variável resposta: 0.02856151324419319\n",
      "Associação da Variável StockOptionLevel com a variável resposta: 0.10016626452575536\n",
      "Associação da Variável WorkLifeBalance com a variável resposta: 0.019137625229100317\n",
      "Associação da Variável Employee Source com a variável resposta: 0.043951977533426424\n"
     ]
    }
   ],
   "source": [
    "y = 'Attrition'\n",
    "\n",
    "# Print\n",
    "print('\\nA Associação é um resultado no intervalo de [0,1], em que 0 significa nenhuma associação e 1 é associação completa.')\n",
    "print('\\n')\n",
    "\n",
    "# Loop\n",
    "for var in categorical_vars:\n",
    "    print('Associação da Variável ' + var + ' com a variável resposta:', \n",
    "          cramers_v(quali_df[var], quali_df[y]))"
   ]
  },
  {
   "cell_type": "markdown",
   "metadata": {},
   "source": [
    "Podemos verificar uma forte associação entre a variável target (attrition) e a variável Overtime. Estudaremos\n",
    "mais sobre essa relação no futuro. Notamos também que as variáveis Gender e PerformanceRating não parecem ter influência significativa.\n",
    "\n",
    "Agora faremos a medida da correlação das variáveis quantitativas."
   ]
  },
  {
   "cell_type": "code",
   "execution_count": 23,
   "metadata": {},
   "outputs": [],
   "source": [
    "num_cols2 = ['Attrition','Age','DistanceFromHome','MonthlyIncome','NumCompaniesWorked',\n",
    "           'PercentSalaryHike','TotalWorkingYears','TrainingTimesLastYear','YearsAtCompany', \n",
    "            'YearsInCurrentRole','YearsSinceLastPromotion', 'YearsWithCurrManager','AgeStartedWorking']"
   ]
  },
  {
   "cell_type": "code",
   "execution_count": 24,
   "metadata": {},
   "outputs": [
    {
     "data": {
      "text/html": [
       "<div>\n",
       "<style scoped>\n",
       "    .dataframe tbody tr th:only-of-type {\n",
       "        vertical-align: middle;\n",
       "    }\n",
       "\n",
       "    .dataframe tbody tr th {\n",
       "        vertical-align: top;\n",
       "    }\n",
       "\n",
       "    .dataframe thead th {\n",
       "        text-align: right;\n",
       "    }\n",
       "</style>\n",
       "<table border=\"1\" class=\"dataframe\">\n",
       "  <thead>\n",
       "    <tr style=\"text-align: right;\">\n",
       "      <th></th>\n",
       "      <th>Attrition</th>\n",
       "      <th>Age</th>\n",
       "      <th>DistanceFromHome</th>\n",
       "      <th>MonthlyIncome</th>\n",
       "      <th>NumCompaniesWorked</th>\n",
       "      <th>PercentSalaryHike</th>\n",
       "      <th>TotalWorkingYears</th>\n",
       "      <th>TrainingTimesLastYear</th>\n",
       "      <th>YearsAtCompany</th>\n",
       "      <th>YearsInCurrentRole</th>\n",
       "      <th>YearsSinceLastPromotion</th>\n",
       "      <th>YearsWithCurrManager</th>\n",
       "      <th>AgeStartedWorking</th>\n",
       "    </tr>\n",
       "  </thead>\n",
       "  <tbody>\n",
       "    <tr>\n",
       "      <th>0</th>\n",
       "      <td>Voluntary Resignation</td>\n",
       "      <td>41</td>\n",
       "      <td>1</td>\n",
       "      <td>5993</td>\n",
       "      <td>8</td>\n",
       "      <td>11</td>\n",
       "      <td>8</td>\n",
       "      <td>0</td>\n",
       "      <td>6</td>\n",
       "      <td>4</td>\n",
       "      <td>0</td>\n",
       "      <td>5</td>\n",
       "      <td>33</td>\n",
       "    </tr>\n",
       "    <tr>\n",
       "      <th>1</th>\n",
       "      <td>Voluntary Resignation</td>\n",
       "      <td>37</td>\n",
       "      <td>6</td>\n",
       "      <td>5993</td>\n",
       "      <td>8</td>\n",
       "      <td>11</td>\n",
       "      <td>8</td>\n",
       "      <td>0</td>\n",
       "      <td>6</td>\n",
       "      <td>4</td>\n",
       "      <td>0</td>\n",
       "      <td>5</td>\n",
       "      <td>29</td>\n",
       "    </tr>\n",
       "    <tr>\n",
       "      <th>2</th>\n",
       "      <td>Voluntary Resignation</td>\n",
       "      <td>41</td>\n",
       "      <td>1</td>\n",
       "      <td>5993</td>\n",
       "      <td>4</td>\n",
       "      <td>11</td>\n",
       "      <td>8</td>\n",
       "      <td>0</td>\n",
       "      <td>6</td>\n",
       "      <td>4</td>\n",
       "      <td>0</td>\n",
       "      <td>5</td>\n",
       "      <td>33</td>\n",
       "    </tr>\n",
       "    <tr>\n",
       "      <th>3</th>\n",
       "      <td>Voluntary Resignation</td>\n",
       "      <td>37</td>\n",
       "      <td>6</td>\n",
       "      <td>5993</td>\n",
       "      <td>5</td>\n",
       "      <td>11</td>\n",
       "      <td>8</td>\n",
       "      <td>0</td>\n",
       "      <td>6</td>\n",
       "      <td>4</td>\n",
       "      <td>0</td>\n",
       "      <td>5</td>\n",
       "      <td>29</td>\n",
       "    </tr>\n",
       "    <tr>\n",
       "      <th>4</th>\n",
       "      <td>Voluntary Resignation</td>\n",
       "      <td>37</td>\n",
       "      <td>6</td>\n",
       "      <td>5993</td>\n",
       "      <td>8</td>\n",
       "      <td>11</td>\n",
       "      <td>8</td>\n",
       "      <td>0</td>\n",
       "      <td>6</td>\n",
       "      <td>4</td>\n",
       "      <td>0</td>\n",
       "      <td>5</td>\n",
       "      <td>29</td>\n",
       "    </tr>\n",
       "  </tbody>\n",
       "</table>\n",
       "</div>"
      ],
      "text/plain": [
       "               Attrition  Age  DistanceFromHome  MonthlyIncome  \\\n",
       "0  Voluntary Resignation   41                 1           5993   \n",
       "1  Voluntary Resignation   37                 6           5993   \n",
       "2  Voluntary Resignation   41                 1           5993   \n",
       "3  Voluntary Resignation   37                 6           5993   \n",
       "4  Voluntary Resignation   37                 6           5993   \n",
       "\n",
       "   NumCompaniesWorked  PercentSalaryHike  TotalWorkingYears  \\\n",
       "0                   8                 11                  8   \n",
       "1                   8                 11                  8   \n",
       "2                   4                 11                  8   \n",
       "3                   5                 11                  8   \n",
       "4                   8                 11                  8   \n",
       "\n",
       "   TrainingTimesLastYear  YearsAtCompany  YearsInCurrentRole  \\\n",
       "0                      0               6                   4   \n",
       "1                      0               6                   4   \n",
       "2                      0               6                   4   \n",
       "3                      0               6                   4   \n",
       "4                      0               6                   4   \n",
       "\n",
       "   YearsSinceLastPromotion  YearsWithCurrManager  AgeStartedWorking  \n",
       "0                        0                     5                 33  \n",
       "1                        0                     5                 29  \n",
       "2                        0                     5                 33  \n",
       "3                        0                     5                 29  \n",
       "4                        0                     5                 29  "
      ]
     },
     "execution_count": 24,
     "metadata": {},
     "output_type": "execute_result"
    }
   ],
   "source": [
    "#Separando as variáveis quantitativas\n",
    "\n",
    "quanti_df = data[num_cols2]\n",
    "quanti_df.head()"
   ]
  },
  {
   "cell_type": "code",
   "execution_count": 25,
   "metadata": {},
   "outputs": [
    {
     "data": {
      "text/html": [
       "<div>\n",
       "<style scoped>\n",
       "    .dataframe tbody tr th:only-of-type {\n",
       "        vertical-align: middle;\n",
       "    }\n",
       "\n",
       "    .dataframe tbody tr th {\n",
       "        vertical-align: top;\n",
       "    }\n",
       "\n",
       "    .dataframe thead th {\n",
       "        text-align: right;\n",
       "    }\n",
       "</style>\n",
       "<table border=\"1\" class=\"dataframe\">\n",
       "  <thead>\n",
       "    <tr style=\"text-align: right;\">\n",
       "      <th></th>\n",
       "      <th>Attrition</th>\n",
       "      <th>Age</th>\n",
       "      <th>DistanceFromHome</th>\n",
       "      <th>MonthlyIncome</th>\n",
       "      <th>NumCompaniesWorked</th>\n",
       "      <th>PercentSalaryHike</th>\n",
       "      <th>TotalWorkingYears</th>\n",
       "      <th>TrainingTimesLastYear</th>\n",
       "      <th>YearsAtCompany</th>\n",
       "      <th>YearsInCurrentRole</th>\n",
       "      <th>YearsSinceLastPromotion</th>\n",
       "      <th>YearsWithCurrManager</th>\n",
       "      <th>AgeStartedWorking</th>\n",
       "    </tr>\n",
       "  </thead>\n",
       "  <tbody>\n",
       "    <tr>\n",
       "      <th>0</th>\n",
       "      <td>2</td>\n",
       "      <td>41</td>\n",
       "      <td>1</td>\n",
       "      <td>5993</td>\n",
       "      <td>8</td>\n",
       "      <td>11</td>\n",
       "      <td>8</td>\n",
       "      <td>0</td>\n",
       "      <td>6</td>\n",
       "      <td>4</td>\n",
       "      <td>0</td>\n",
       "      <td>5</td>\n",
       "      <td>33</td>\n",
       "    </tr>\n",
       "    <tr>\n",
       "      <th>1</th>\n",
       "      <td>2</td>\n",
       "      <td>37</td>\n",
       "      <td>6</td>\n",
       "      <td>5993</td>\n",
       "      <td>8</td>\n",
       "      <td>11</td>\n",
       "      <td>8</td>\n",
       "      <td>0</td>\n",
       "      <td>6</td>\n",
       "      <td>4</td>\n",
       "      <td>0</td>\n",
       "      <td>5</td>\n",
       "      <td>29</td>\n",
       "    </tr>\n",
       "    <tr>\n",
       "      <th>2</th>\n",
       "      <td>2</td>\n",
       "      <td>41</td>\n",
       "      <td>1</td>\n",
       "      <td>5993</td>\n",
       "      <td>4</td>\n",
       "      <td>11</td>\n",
       "      <td>8</td>\n",
       "      <td>0</td>\n",
       "      <td>6</td>\n",
       "      <td>4</td>\n",
       "      <td>0</td>\n",
       "      <td>5</td>\n",
       "      <td>33</td>\n",
       "    </tr>\n",
       "    <tr>\n",
       "      <th>3</th>\n",
       "      <td>2</td>\n",
       "      <td>37</td>\n",
       "      <td>6</td>\n",
       "      <td>5993</td>\n",
       "      <td>5</td>\n",
       "      <td>11</td>\n",
       "      <td>8</td>\n",
       "      <td>0</td>\n",
       "      <td>6</td>\n",
       "      <td>4</td>\n",
       "      <td>0</td>\n",
       "      <td>5</td>\n",
       "      <td>29</td>\n",
       "    </tr>\n",
       "    <tr>\n",
       "      <th>4</th>\n",
       "      <td>2</td>\n",
       "      <td>37</td>\n",
       "      <td>6</td>\n",
       "      <td>5993</td>\n",
       "      <td>8</td>\n",
       "      <td>11</td>\n",
       "      <td>8</td>\n",
       "      <td>0</td>\n",
       "      <td>6</td>\n",
       "      <td>4</td>\n",
       "      <td>0</td>\n",
       "      <td>5</td>\n",
       "      <td>29</td>\n",
       "    </tr>\n",
       "  </tbody>\n",
       "</table>\n",
       "</div>"
      ],
      "text/plain": [
       "   Attrition  Age  DistanceFromHome  MonthlyIncome  NumCompaniesWorked  \\\n",
       "0          2   41                 1           5993                   8   \n",
       "1          2   37                 6           5993                   8   \n",
       "2          2   41                 1           5993                   4   \n",
       "3          2   37                 6           5993                   5   \n",
       "4          2   37                 6           5993                   8   \n",
       "\n",
       "   PercentSalaryHike  TotalWorkingYears  TrainingTimesLastYear  \\\n",
       "0                 11                  8                      0   \n",
       "1                 11                  8                      0   \n",
       "2                 11                  8                      0   \n",
       "3                 11                  8                      0   \n",
       "4                 11                  8                      0   \n",
       "\n",
       "   YearsAtCompany  YearsInCurrentRole  YearsSinceLastPromotion  \\\n",
       "0               6                   4                        0   \n",
       "1               6                   4                        0   \n",
       "2               6                   4                        0   \n",
       "3               6                   4                        0   \n",
       "4               6                   4                        0   \n",
       "\n",
       "   YearsWithCurrManager  AgeStartedWorking  \n",
       "0                     5                 33  \n",
       "1                     5                 29  \n",
       "2                     5                 33  \n",
       "3                     5                 29  \n",
       "4                     5                 29  "
      ]
     },
     "execution_count": 25,
     "metadata": {},
     "output_type": "execute_result"
    }
   ],
   "source": [
    "#Transformando a variável target\n",
    "quanti_df['Attrition'] = quanti_df['Attrition'].astype('category')\n",
    "quanti_df['Attrition'] = quanti_df['Attrition'].cat.codes\n",
    "quanti_df.head()"
   ]
  },
  {
   "cell_type": "code",
   "execution_count": 26,
   "metadata": {},
   "outputs": [
    {
     "data": {
      "text/html": [
       "<div>\n",
       "<style scoped>\n",
       "    .dataframe tbody tr th:only-of-type {\n",
       "        vertical-align: middle;\n",
       "    }\n",
       "\n",
       "    .dataframe tbody tr th {\n",
       "        vertical-align: top;\n",
       "    }\n",
       "\n",
       "    .dataframe thead th {\n",
       "        text-align: right;\n",
       "    }\n",
       "</style>\n",
       "<table border=\"1\" class=\"dataframe\">\n",
       "  <thead>\n",
       "    <tr style=\"text-align: right;\">\n",
       "      <th></th>\n",
       "      <th>Attrition</th>\n",
       "      <th>Age</th>\n",
       "      <th>DistanceFromHome</th>\n",
       "      <th>MonthlyIncome</th>\n",
       "      <th>NumCompaniesWorked</th>\n",
       "      <th>PercentSalaryHike</th>\n",
       "      <th>TotalWorkingYears</th>\n",
       "      <th>TrainingTimesLastYear</th>\n",
       "      <th>YearsAtCompany</th>\n",
       "      <th>YearsInCurrentRole</th>\n",
       "      <th>YearsSinceLastPromotion</th>\n",
       "      <th>YearsWithCurrManager</th>\n",
       "      <th>AgeStartedWorking</th>\n",
       "    </tr>\n",
       "  </thead>\n",
       "  <tbody>\n",
       "    <tr>\n",
       "      <th>count</th>\n",
       "      <td>23058.000000</td>\n",
       "      <td>23058.000000</td>\n",
       "      <td>23058.000000</td>\n",
       "      <td>23058.000000</td>\n",
       "      <td>23058.000000</td>\n",
       "      <td>23058.000000</td>\n",
       "      <td>23058.000000</td>\n",
       "      <td>23058.000000</td>\n",
       "      <td>23058.000000</td>\n",
       "      <td>23058.000000</td>\n",
       "      <td>23058.000000</td>\n",
       "      <td>23058.000000</td>\n",
       "      <td>23058.000000</td>\n",
       "    </tr>\n",
       "    <tr>\n",
       "      <th>mean</th>\n",
       "      <td>0.316116</td>\n",
       "      <td>37.035562</td>\n",
       "      <td>9.215413</td>\n",
       "      <td>6415.708561</td>\n",
       "      <td>2.690693</td>\n",
       "      <td>15.215630</td>\n",
       "      <td>11.074941</td>\n",
       "      <td>2.804016</td>\n",
       "      <td>6.910053</td>\n",
       "      <td>4.200755</td>\n",
       "      <td>2.164238</td>\n",
       "      <td>4.091335</td>\n",
       "      <td>25.960621</td>\n",
       "    </tr>\n",
       "    <tr>\n",
       "      <th>std</th>\n",
       "      <td>0.727016</td>\n",
       "      <td>9.050759</td>\n",
       "      <td>8.106362</td>\n",
       "      <td>4627.871795</td>\n",
       "      <td>2.499755</td>\n",
       "      <td>3.658836</td>\n",
       "      <td>7.565958</td>\n",
       "      <td>1.289432</td>\n",
       "      <td>5.969888</td>\n",
       "      <td>3.609138</td>\n",
       "      <td>3.200890</td>\n",
       "      <td>3.548117</td>\n",
       "      <td>9.384428</td>\n",
       "    </tr>\n",
       "    <tr>\n",
       "      <th>min</th>\n",
       "      <td>0.000000</td>\n",
       "      <td>18.000000</td>\n",
       "      <td>1.000000</td>\n",
       "      <td>1009.000000</td>\n",
       "      <td>0.000000</td>\n",
       "      <td>11.000000</td>\n",
       "      <td>0.000000</td>\n",
       "      <td>0.000000</td>\n",
       "      <td>0.000000</td>\n",
       "      <td>0.000000</td>\n",
       "      <td>0.000000</td>\n",
       "      <td>0.000000</td>\n",
       "      <td>0.000000</td>\n",
       "    </tr>\n",
       "    <tr>\n",
       "      <th>25%</th>\n",
       "      <td>0.000000</td>\n",
       "      <td>30.000000</td>\n",
       "      <td>2.000000</td>\n",
       "      <td>2900.250000</td>\n",
       "      <td>1.000000</td>\n",
       "      <td>12.000000</td>\n",
       "      <td>6.000000</td>\n",
       "      <td>2.000000</td>\n",
       "      <td>3.000000</td>\n",
       "      <td>2.000000</td>\n",
       "      <td>0.000000</td>\n",
       "      <td>2.000000</td>\n",
       "      <td>20.000000</td>\n",
       "    </tr>\n",
       "    <tr>\n",
       "      <th>50%</th>\n",
       "      <td>0.000000</td>\n",
       "      <td>36.000000</td>\n",
       "      <td>7.000000</td>\n",
       "      <td>4898.000000</td>\n",
       "      <td>2.000000</td>\n",
       "      <td>14.000000</td>\n",
       "      <td>10.000000</td>\n",
       "      <td>3.000000</td>\n",
       "      <td>5.000000</td>\n",
       "      <td>3.000000</td>\n",
       "      <td>1.000000</td>\n",
       "      <td>3.000000</td>\n",
       "      <td>25.000000</td>\n",
       "    </tr>\n",
       "    <tr>\n",
       "      <th>75%</th>\n",
       "      <td>0.000000</td>\n",
       "      <td>43.000000</td>\n",
       "      <td>14.000000</td>\n",
       "      <td>8120.000000</td>\n",
       "      <td>4.000000</td>\n",
       "      <td>18.000000</td>\n",
       "      <td>15.000000</td>\n",
       "      <td>3.000000</td>\n",
       "      <td>9.000000</td>\n",
       "      <td>7.000000</td>\n",
       "      <td>3.000000</td>\n",
       "      <td>7.000000</td>\n",
       "      <td>31.000000</td>\n",
       "    </tr>\n",
       "    <tr>\n",
       "      <th>max</th>\n",
       "      <td>2.000000</td>\n",
       "      <td>60.000000</td>\n",
       "      <td>29.000000</td>\n",
       "      <td>19999.000000</td>\n",
       "      <td>9.000000</td>\n",
       "      <td>25.000000</td>\n",
       "      <td>40.000000</td>\n",
       "      <td>6.000000</td>\n",
       "      <td>40.000000</td>\n",
       "      <td>18.000000</td>\n",
       "      <td>15.000000</td>\n",
       "      <td>17.000000</td>\n",
       "      <td>60.000000</td>\n",
       "    </tr>\n",
       "  </tbody>\n",
       "</table>\n",
       "</div>"
      ],
      "text/plain": [
       "          Attrition           Age  DistanceFromHome  MonthlyIncome  \\\n",
       "count  23058.000000  23058.000000      23058.000000   23058.000000   \n",
       "mean       0.316116     37.035562          9.215413    6415.708561   \n",
       "std        0.727016      9.050759          8.106362    4627.871795   \n",
       "min        0.000000     18.000000          1.000000    1009.000000   \n",
       "25%        0.000000     30.000000          2.000000    2900.250000   \n",
       "50%        0.000000     36.000000          7.000000    4898.000000   \n",
       "75%        0.000000     43.000000         14.000000    8120.000000   \n",
       "max        2.000000     60.000000         29.000000   19999.000000   \n",
       "\n",
       "       NumCompaniesWorked  PercentSalaryHike  TotalWorkingYears  \\\n",
       "count        23058.000000       23058.000000       23058.000000   \n",
       "mean             2.690693          15.215630          11.074941   \n",
       "std              2.499755           3.658836           7.565958   \n",
       "min              0.000000          11.000000           0.000000   \n",
       "25%              1.000000          12.000000           6.000000   \n",
       "50%              2.000000          14.000000          10.000000   \n",
       "75%              4.000000          18.000000          15.000000   \n",
       "max              9.000000          25.000000          40.000000   \n",
       "\n",
       "       TrainingTimesLastYear  YearsAtCompany  YearsInCurrentRole  \\\n",
       "count           23058.000000    23058.000000        23058.000000   \n",
       "mean                2.804016        6.910053            4.200755   \n",
       "std                 1.289432        5.969888            3.609138   \n",
       "min                 0.000000        0.000000            0.000000   \n",
       "25%                 2.000000        3.000000            2.000000   \n",
       "50%                 3.000000        5.000000            3.000000   \n",
       "75%                 3.000000        9.000000            7.000000   \n",
       "max                 6.000000       40.000000           18.000000   \n",
       "\n",
       "       YearsSinceLastPromotion  YearsWithCurrManager  AgeStartedWorking  \n",
       "count             23058.000000          23058.000000       23058.000000  \n",
       "mean                  2.164238              4.091335          25.960621  \n",
       "std                   3.200890              3.548117           9.384428  \n",
       "min                   0.000000              0.000000           0.000000  \n",
       "25%                   0.000000              2.000000          20.000000  \n",
       "50%                   1.000000              3.000000          25.000000  \n",
       "75%                   3.000000              7.000000          31.000000  \n",
       "max                  15.000000             17.000000          60.000000  "
      ]
     },
     "execution_count": 26,
     "metadata": {},
     "output_type": "execute_result"
    }
   ],
   "source": [
    "#Verificando as estatísticas básicas\n",
    "quanti_df.describe()"
   ]
  },
  {
   "cell_type": "code",
   "execution_count": 27,
   "metadata": {},
   "outputs": [
    {
     "data": {
      "text/plain": [
       "<matplotlib.axes._subplots.AxesSubplot at 0x7f2fd7736550>"
      ]
     },
     "execution_count": 27,
     "metadata": {},
     "output_type": "execute_result"
    },
    {
     "data": {
      "image/png": "[encoded data removed]",
      "text/plain": [
       "<Figure size 720x576 with 2 Axes>"
      ]
     },
     "metadata": {
      "needs_background": "light"
     },
     "output_type": "display_data"
    }
   ],
   "source": [
    "rcParams['figure.figsize'] = 10, 8\n",
    "corr = quanti_df.corr()\n",
    "sns.heatmap(corr, data=quanti_df, annot=True)"
   ]
  },
  {
   "cell_type": "markdown",
   "metadata": {},
   "source": [
    "Não há uma alta correlação entre uma das variáveis e a variável target. Porém, vemos correlações altas\n",
    "entre outras variáveis como:\n",
    "    \n",
    "* MonthlyIncome x TotalWorkingYears\n",
    "\n",
    "* YearsAtCompany x TotalWorkingYears\n",
    "\n",
    "* YearsInCurrentRole x YearsAtCompany\n",
    "\n",
    "Entre outras...\n",
    "\n",
    "\n",
    "    \n"
   ]
  },
  {
   "cell_type": "code",
   "execution_count": 28,
   "metadata": {},
   "outputs": [
    {
     "data": {
      "text/html": [
       "<div>\n",
       "<style scoped>\n",
       "    .dataframe tbody tr th:only-of-type {\n",
       "        vertical-align: middle;\n",
       "    }\n",
       "\n",
       "    .dataframe tbody tr th {\n",
       "        vertical-align: top;\n",
       "    }\n",
       "\n",
       "    .dataframe thead th {\n",
       "        text-align: right;\n",
       "    }\n",
       "</style>\n",
       "<table border=\"1\" class=\"dataframe\">\n",
       "  <thead>\n",
       "    <tr style=\"text-align: right;\">\n",
       "      <th></th>\n",
       "      <th>Age</th>\n",
       "      <th>Attrition</th>\n",
       "      <th>BusinessTravel</th>\n",
       "      <th>Department</th>\n",
       "      <th>DistanceFromHome</th>\n",
       "      <th>Education</th>\n",
       "      <th>EducationField</th>\n",
       "      <th>EnvironmentSatisfaction</th>\n",
       "      <th>Gender</th>\n",
       "      <th>JobInvolvement</th>\n",
       "      <th>...</th>\n",
       "      <th>StockOptionLevel</th>\n",
       "      <th>TotalWorkingYears</th>\n",
       "      <th>TrainingTimesLastYear</th>\n",
       "      <th>WorkLifeBalance</th>\n",
       "      <th>YearsAtCompany</th>\n",
       "      <th>YearsInCurrentRole</th>\n",
       "      <th>YearsSinceLastPromotion</th>\n",
       "      <th>YearsWithCurrManager</th>\n",
       "      <th>Employee Source</th>\n",
       "      <th>AgeStartedWorking</th>\n",
       "    </tr>\n",
       "  </thead>\n",
       "  <tbody>\n",
       "    <tr>\n",
       "      <th>0</th>\n",
       "      <td>41</td>\n",
       "      <td>Voluntary Resignation</td>\n",
       "      <td>Travel_Rarely</td>\n",
       "      <td>Sales</td>\n",
       "      <td>1</td>\n",
       "      <td>2</td>\n",
       "      <td>Life Sciences</td>\n",
       "      <td>2</td>\n",
       "      <td>Female</td>\n",
       "      <td>3</td>\n",
       "      <td>...</td>\n",
       "      <td>0</td>\n",
       "      <td>8</td>\n",
       "      <td>0</td>\n",
       "      <td>1</td>\n",
       "      <td>6</td>\n",
       "      <td>4</td>\n",
       "      <td>0</td>\n",
       "      <td>5</td>\n",
       "      <td>Referral</td>\n",
       "      <td>33</td>\n",
       "    </tr>\n",
       "    <tr>\n",
       "      <th>1</th>\n",
       "      <td>37</td>\n",
       "      <td>Voluntary Resignation</td>\n",
       "      <td>Travel_Rarely</td>\n",
       "      <td>Human Resources</td>\n",
       "      <td>6</td>\n",
       "      <td>4</td>\n",
       "      <td>Human Resources</td>\n",
       "      <td>1</td>\n",
       "      <td>Female</td>\n",
       "      <td>3</td>\n",
       "      <td>...</td>\n",
       "      <td>0</td>\n",
       "      <td>8</td>\n",
       "      <td>0</td>\n",
       "      <td>1</td>\n",
       "      <td>6</td>\n",
       "      <td>4</td>\n",
       "      <td>0</td>\n",
       "      <td>5</td>\n",
       "      <td>Referral</td>\n",
       "      <td>29</td>\n",
       "    </tr>\n",
       "    <tr>\n",
       "      <th>2</th>\n",
       "      <td>41</td>\n",
       "      <td>Voluntary Resignation</td>\n",
       "      <td>Travel_Rarely</td>\n",
       "      <td>Sales</td>\n",
       "      <td>1</td>\n",
       "      <td>2</td>\n",
       "      <td>Life Sciences</td>\n",
       "      <td>2</td>\n",
       "      <td>Female</td>\n",
       "      <td>3</td>\n",
       "      <td>...</td>\n",
       "      <td>0</td>\n",
       "      <td>8</td>\n",
       "      <td>0</td>\n",
       "      <td>1</td>\n",
       "      <td>6</td>\n",
       "      <td>4</td>\n",
       "      <td>0</td>\n",
       "      <td>5</td>\n",
       "      <td>Referral</td>\n",
       "      <td>33</td>\n",
       "    </tr>\n",
       "    <tr>\n",
       "      <th>3</th>\n",
       "      <td>37</td>\n",
       "      <td>Voluntary Resignation</td>\n",
       "      <td>Travel_Rarely</td>\n",
       "      <td>Human Resources</td>\n",
       "      <td>6</td>\n",
       "      <td>4</td>\n",
       "      <td>Marketing</td>\n",
       "      <td>1</td>\n",
       "      <td>Female</td>\n",
       "      <td>3</td>\n",
       "      <td>...</td>\n",
       "      <td>0</td>\n",
       "      <td>8</td>\n",
       "      <td>0</td>\n",
       "      <td>1</td>\n",
       "      <td>6</td>\n",
       "      <td>4</td>\n",
       "      <td>0</td>\n",
       "      <td>5</td>\n",
       "      <td>Referral</td>\n",
       "      <td>29</td>\n",
       "    </tr>\n",
       "    <tr>\n",
       "      <th>4</th>\n",
       "      <td>37</td>\n",
       "      <td>Voluntary Resignation</td>\n",
       "      <td>Travel_Rarely</td>\n",
       "      <td>Human Resources</td>\n",
       "      <td>6</td>\n",
       "      <td>4</td>\n",
       "      <td>Human Resources</td>\n",
       "      <td>1</td>\n",
       "      <td>Female</td>\n",
       "      <td>3</td>\n",
       "      <td>...</td>\n",
       "      <td>0</td>\n",
       "      <td>8</td>\n",
       "      <td>0</td>\n",
       "      <td>1</td>\n",
       "      <td>6</td>\n",
       "      <td>4</td>\n",
       "      <td>0</td>\n",
       "      <td>5</td>\n",
       "      <td>Referral</td>\n",
       "      <td>29</td>\n",
       "    </tr>\n",
       "  </tbody>\n",
       "</table>\n",
       "<p>5 rows × 30 columns</p>\n",
       "</div>"
      ],
      "text/plain": [
       "   Age              Attrition BusinessTravel       Department  \\\n",
       "0   41  Voluntary Resignation  Travel_Rarely            Sales   \n",
       "1   37  Voluntary Resignation  Travel_Rarely  Human Resources   \n",
       "2   41  Voluntary Resignation  Travel_Rarely            Sales   \n",
       "3   37  Voluntary Resignation  Travel_Rarely  Human Resources   \n",
       "4   37  Voluntary Resignation  Travel_Rarely  Human Resources   \n",
       "\n",
       "   DistanceFromHome  Education   EducationField  EnvironmentSatisfaction  \\\n",
       "0                 1          2    Life Sciences                        2   \n",
       "1                 6          4  Human Resources                        1   \n",
       "2                 1          2    Life Sciences                        2   \n",
       "3                 6          4        Marketing                        1   \n",
       "4                 6          4  Human Resources                        1   \n",
       "\n",
       "   Gender  JobInvolvement  ...  StockOptionLevel TotalWorkingYears  \\\n",
       "0  Female               3  ...                 0                 8   \n",
       "1  Female               3  ...                 0                 8   \n",
       "2  Female               3  ...                 0                 8   \n",
       "3  Female               3  ...                 0                 8   \n",
       "4  Female               3  ...                 0                 8   \n",
       "\n",
       "   TrainingTimesLastYear WorkLifeBalance  YearsAtCompany  YearsInCurrentRole  \\\n",
       "0                      0               1               6                   4   \n",
       "1                      0               1               6                   4   \n",
       "2                      0               1               6                   4   \n",
       "3                      0               1               6                   4   \n",
       "4                      0               1               6                   4   \n",
       "\n",
       "  YearsSinceLastPromotion  YearsWithCurrManager  Employee Source  \\\n",
       "0                       0                     5         Referral   \n",
       "1                       0                     5         Referral   \n",
       "2                       0                     5         Referral   \n",
       "3                       0                     5         Referral   \n",
       "4                       0                     5         Referral   \n",
       "\n",
       "   AgeStartedWorking  \n",
       "0                 33  \n",
       "1                 29  \n",
       "2                 33  \n",
       "3                 29  \n",
       "4                 29  \n",
       "\n",
       "[5 rows x 30 columns]"
      ]
     },
     "execution_count": 28,
     "metadata": {},
     "output_type": "execute_result"
    }
   ],
   "source": [
    "data.head()"
   ]
  },
  {
   "cell_type": "code",
   "execution_count": 29,
   "metadata": {},
   "outputs": [
    {
     "data": {
      "text/html": [
       "<div>\n",
       "<style scoped>\n",
       "    .dataframe tbody tr th:only-of-type {\n",
       "        vertical-align: middle;\n",
       "    }\n",
       "\n",
       "    .dataframe tbody tr th {\n",
       "        vertical-align: top;\n",
       "    }\n",
       "\n",
       "    .dataframe thead th {\n",
       "        text-align: right;\n",
       "    }\n",
       "</style>\n",
       "<table border=\"1\" class=\"dataframe\">\n",
       "  <thead>\n",
       "    <tr style=\"text-align: right;\">\n",
       "      <th></th>\n",
       "      <th>Age</th>\n",
       "      <th>Attrition</th>\n",
       "      <th>BusinessTravel</th>\n",
       "      <th>Department</th>\n",
       "      <th>DistanceFromHome</th>\n",
       "      <th>Education</th>\n",
       "      <th>EducationField</th>\n",
       "      <th>EnvironmentSatisfaction</th>\n",
       "      <th>Gender</th>\n",
       "      <th>JobInvolvement</th>\n",
       "      <th>...</th>\n",
       "      <th>StockOptionLevel</th>\n",
       "      <th>TotalWorkingYears</th>\n",
       "      <th>TrainingTimesLastYear</th>\n",
       "      <th>WorkLifeBalance</th>\n",
       "      <th>YearsAtCompany</th>\n",
       "      <th>YearsInCurrentRole</th>\n",
       "      <th>YearsSinceLastPromotion</th>\n",
       "      <th>YearsWithCurrManager</th>\n",
       "      <th>Employee Source</th>\n",
       "      <th>AgeStartedWorking</th>\n",
       "    </tr>\n",
       "  </thead>\n",
       "  <tbody>\n",
       "    <tr>\n",
       "      <th>0</th>\n",
       "      <td>23</td>\n",
       "      <td>2</td>\n",
       "      <td>2</td>\n",
       "      <td>2</td>\n",
       "      <td>0</td>\n",
       "      <td>1</td>\n",
       "      <td>1</td>\n",
       "      <td>1</td>\n",
       "      <td>0</td>\n",
       "      <td>2</td>\n",
       "      <td>...</td>\n",
       "      <td>0</td>\n",
       "      <td>8</td>\n",
       "      <td>0</td>\n",
       "      <td>0</td>\n",
       "      <td>6</td>\n",
       "      <td>4</td>\n",
       "      <td>0</td>\n",
       "      <td>5</td>\n",
       "      <td>7</td>\n",
       "      <td>33</td>\n",
       "    </tr>\n",
       "    <tr>\n",
       "      <th>1</th>\n",
       "      <td>19</td>\n",
       "      <td>2</td>\n",
       "      <td>2</td>\n",
       "      <td>0</td>\n",
       "      <td>5</td>\n",
       "      <td>3</td>\n",
       "      <td>0</td>\n",
       "      <td>0</td>\n",
       "      <td>0</td>\n",
       "      <td>2</td>\n",
       "      <td>...</td>\n",
       "      <td>0</td>\n",
       "      <td>8</td>\n",
       "      <td>0</td>\n",
       "      <td>0</td>\n",
       "      <td>6</td>\n",
       "      <td>4</td>\n",
       "      <td>0</td>\n",
       "      <td>5</td>\n",
       "      <td>7</td>\n",
       "      <td>29</td>\n",
       "    </tr>\n",
       "    <tr>\n",
       "      <th>2</th>\n",
       "      <td>23</td>\n",
       "      <td>2</td>\n",
       "      <td>2</td>\n",
       "      <td>2</td>\n",
       "      <td>0</td>\n",
       "      <td>1</td>\n",
       "      <td>1</td>\n",
       "      <td>1</td>\n",
       "      <td>0</td>\n",
       "      <td>2</td>\n",
       "      <td>...</td>\n",
       "      <td>0</td>\n",
       "      <td>8</td>\n",
       "      <td>0</td>\n",
       "      <td>0</td>\n",
       "      <td>6</td>\n",
       "      <td>4</td>\n",
       "      <td>0</td>\n",
       "      <td>5</td>\n",
       "      <td>7</td>\n",
       "      <td>33</td>\n",
       "    </tr>\n",
       "    <tr>\n",
       "      <th>3</th>\n",
       "      <td>19</td>\n",
       "      <td>2</td>\n",
       "      <td>2</td>\n",
       "      <td>0</td>\n",
       "      <td>5</td>\n",
       "      <td>3</td>\n",
       "      <td>2</td>\n",
       "      <td>0</td>\n",
       "      <td>0</td>\n",
       "      <td>2</td>\n",
       "      <td>...</td>\n",
       "      <td>0</td>\n",
       "      <td>8</td>\n",
       "      <td>0</td>\n",
       "      <td>0</td>\n",
       "      <td>6</td>\n",
       "      <td>4</td>\n",
       "      <td>0</td>\n",
       "      <td>5</td>\n",
       "      <td>7</td>\n",
       "      <td>29</td>\n",
       "    </tr>\n",
       "    <tr>\n",
       "      <th>4</th>\n",
       "      <td>19</td>\n",
       "      <td>2</td>\n",
       "      <td>2</td>\n",
       "      <td>0</td>\n",
       "      <td>5</td>\n",
       "      <td>3</td>\n",
       "      <td>0</td>\n",
       "      <td>0</td>\n",
       "      <td>0</td>\n",
       "      <td>2</td>\n",
       "      <td>...</td>\n",
       "      <td>0</td>\n",
       "      <td>8</td>\n",
       "      <td>0</td>\n",
       "      <td>0</td>\n",
       "      <td>6</td>\n",
       "      <td>4</td>\n",
       "      <td>0</td>\n",
       "      <td>5</td>\n",
       "      <td>7</td>\n",
       "      <td>29</td>\n",
       "    </tr>\n",
       "  </tbody>\n",
       "</table>\n",
       "<p>5 rows × 30 columns</p>\n",
       "</div>"
      ],
      "text/plain": [
       "   Age  Attrition  BusinessTravel  Department  DistanceFromHome  Education  \\\n",
       "0   23          2               2           2                 0          1   \n",
       "1   19          2               2           0                 5          3   \n",
       "2   23          2               2           2                 0          1   \n",
       "3   19          2               2           0                 5          3   \n",
       "4   19          2               2           0                 5          3   \n",
       "\n",
       "   EducationField  EnvironmentSatisfaction  Gender  JobInvolvement  ...  \\\n",
       "0               1                        1       0               2  ...   \n",
       "1               0                        0       0               2  ...   \n",
       "2               1                        1       0               2  ...   \n",
       "3               2                        0       0               2  ...   \n",
       "4               0                        0       0               2  ...   \n",
       "\n",
       "   StockOptionLevel  TotalWorkingYears  TrainingTimesLastYear  \\\n",
       "0                 0                  8                      0   \n",
       "1                 0                  8                      0   \n",
       "2                 0                  8                      0   \n",
       "3                 0                  8                      0   \n",
       "4                 0                  8                      0   \n",
       "\n",
       "   WorkLifeBalance  YearsAtCompany  YearsInCurrentRole  \\\n",
       "0                0               6                   4   \n",
       "1                0               6                   4   \n",
       "2                0               6                   4   \n",
       "3                0               6                   4   \n",
       "4                0               6                   4   \n",
       "\n",
       "   YearsSinceLastPromotion  YearsWithCurrManager  Employee Source  \\\n",
       "0                        0                     5                7   \n",
       "1                        0                     5                7   \n",
       "2                        0                     5                7   \n",
       "3                        0                     5                7   \n",
       "4                        0                     5                7   \n",
       "\n",
       "   AgeStartedWorking  \n",
       "0                 33  \n",
       "1                 29  \n",
       "2                 33  \n",
       "3                 29  \n",
       "4                 29  \n",
       "\n",
       "[5 rows x 30 columns]"
      ]
     },
     "execution_count": 29,
     "metadata": {},
     "output_type": "execute_result"
    }
   ],
   "source": [
    "# Transformando as variáveis do dataset original\n",
    "data2 = data.apply(LabelEncoder().fit_transform)\n",
    "data2.head()"
   ]
  },
  {
   "cell_type": "code",
   "execution_count": 30,
   "metadata": {},
   "outputs": [
    {
     "data": {
      "text/plain": [
       "Age                         0\n",
       "Attrition                   0\n",
       "BusinessTravel              0\n",
       "Department                  0\n",
       "DistanceFromHome            0\n",
       "Education                   0\n",
       "EducationField              0\n",
       "EnvironmentSatisfaction     0\n",
       "Gender                      0\n",
       "JobInvolvement              0\n",
       "JobLevel                    0\n",
       "JobRole                     0\n",
       "JobSatisfaction             0\n",
       "MaritalStatus               0\n",
       "MonthlyIncome               0\n",
       "NumCompaniesWorked          0\n",
       "OverTime                    0\n",
       "PercentSalaryHike           0\n",
       "PerformanceRating           0\n",
       "RelationshipSatisfaction    0\n",
       "StockOptionLevel            0\n",
       "TotalWorkingYears           0\n",
       "TrainingTimesLastYear       0\n",
       "WorkLifeBalance             0\n",
       "YearsAtCompany              0\n",
       "YearsInCurrentRole          0\n",
       "YearsSinceLastPromotion     0\n",
       "YearsWithCurrManager        0\n",
       "Employee Source             0\n",
       "AgeStartedWorking           0\n",
       "dtype: int64"
      ]
     },
     "execution_count": 30,
     "metadata": {},
     "output_type": "execute_result"
    }
   ],
   "source": [
    "#Verificando NAN\n",
    "data2.isnull().sum()"
   ]
  },
  {
   "cell_type": "code",
   "execution_count": 31,
   "metadata": {},
   "outputs": [
    {
     "data": {
      "text/plain": [
       "<matplotlib.axes._subplots.AxesSubplot at 0x7f2fc9192450>"
      ]
     },
     "execution_count": 31,
     "metadata": {},
     "output_type": "execute_result"
    },
    {
     "data": {
      "image/png": "[encoded data removed]",
      "text/plain": [
       "<Figure size 720x576 with 1 Axes>"
      ]
     },
     "metadata": {
      "needs_background": "light"
     },
     "output_type": "display_data"
    }
   ],
   "source": [
    "#Verificando o balanceamento da variável target\n",
    "sns.countplot(data2['Attrition'])"
   ]
  },
  {
   "cell_type": "code",
   "execution_count": 32,
   "metadata": {},
   "outputs": [],
   "source": [
    "X = data2.drop('Attrition', axis = 1)\n",
    "y = data2.Attrition\n",
    "# Aplica a divisão com proporção 80/20\n",
    "X_treino, X_teste, y_treino, y_teste = train_test_split(X, y, test_size = 0.20, random_state = 121)"
   ]
  },
  {
   "cell_type": "code",
   "execution_count": 33,
   "metadata": {},
   "outputs": [],
   "source": [
    "# Padronização\n",
    "# A variável target não requer padronização\n",
    "\n",
    "# Cria o padronizador\n",
    "scaler = StandardScaler()\n",
    "\n",
    "# Treina e aplica nos dados de treino\n",
    "X_treino_scaled = scaler.fit_transform(X_treino.values)\n",
    "\n",
    "# Apenas aplica nos dados de teste\n",
    "X_teste_scaled = scaler.transform(X_teste.values)"
   ]
  },
  {
   "cell_type": "markdown",
   "metadata": {},
   "source": [
    "## Verificando a importância das variáveis com RFECV"
   ]
  },
  {
   "cell_type": "code",
   "execution_count": 34,
   "metadata": {},
   "outputs": [],
   "source": [
    "# Cria o seletor de variáveis\n",
    "from sklearn.metrics import f1_score, make_scorer\n",
    "\n",
    "scoring = make_scorer(f1_score , average='macro')\n",
    "# Cria o estimador\n",
    "estimador_rfc = RandomForestClassifier(random_state = 121)\n",
    "\n",
    "# Cria o seletor\n",
    "seletor_f1 = RFECV(estimator = estimador_rfc, step = 1, cv = StratifiedKFold(10), scoring = scoring)\n",
    "\n",
    "# Treinamos o seletor\n",
    "seletor_f1 = seletor_f1.fit(X_treino_scaled, y_treino)"
   ]
  },
  {
   "cell_type": "code",
   "execution_count": 35,
   "metadata": {},
   "outputs": [
    {
     "name": "stdout",
     "output_type": "stream",
     "text": [
      "Número Ideal de Atributos: 15\n"
     ]
    }
   ],
   "source": [
    "print('Número Ideal de Atributos: {}'.format(seletor_f1.n_features_))"
   ]
  },
  {
   "cell_type": "code",
   "execution_count": 36,
   "metadata": {},
   "outputs": [],
   "source": [
    "\n",
    "# Cria um dataframe com os resultados\n",
    "resultado_seletor_f1 = pd.DataFrame()\n",
    "resultado_seletor_f1['Atributo'] = X_treino.columns[np.where(seletor_f1.support_ == True)]\n",
    "resultado_seletor_f1['Score'] = seletor_f1.estimator_.feature_importances_\n",
    "resultado_seletor_f1.sort_values('Score', inplace = True, ascending = True)"
   ]
  },
  {
   "cell_type": "code",
   "execution_count": 37,
   "metadata": {},
   "outputs": [
    {
     "data": {
      "image/png": "[encoded data removed]",
      "text/plain": [
       "<Figure size 432x432 with 1 Axes>"
      ]
     },
     "metadata": {
      "needs_background": "light"
     },
     "output_type": "display_data"
    }
   ],
   "source": [
    "# Plot \n",
    "plt.figure(figsize = (6, 6))\n",
    "plt.barh(y = resultado_seletor_f1['Atributo'], width = resultado_seletor_f1['Score'], color = 'Magenta')\n",
    "plt.title('Importância de Variáveis - RFECV', fontsize = 18, fontweight = 'bold', pad = 10)\n",
    "plt.xlabel('Importância', fontsize = 14, labelpad = 15)\n",
    "plt.show()"
   ]
  },
  {
   "cell_type": "markdown",
   "metadata": {},
   "source": [
    "Após alguns testes com diferentes ferramentas, chegou a conclusão que as variáveis acima são aquelas que mais \n",
    "influênciam na presença ou não de conflitos. Vamos agora tirar alguns insigths."
   ]
  },
  {
   "cell_type": "markdown",
   "metadata": {},
   "source": [
    "=================================================================================================================="
   ]
  },
  {
   "cell_type": "markdown",
   "metadata": {},
   "source": [
    "## Boxplot das variáveis que possuem \"peso\" maior"
   ]
  },
  {
   "cell_type": "code",
   "execution_count": 39,
   "metadata": {},
   "outputs": [
    {
     "data": {
      "text/plain": [
       "<seaborn.axisgrid.FacetGrid at 0x7f2fc80c7090>"
      ]
     },
     "execution_count": 39,
     "metadata": {},
     "output_type": "execute_result"
    },
    {
     "data": {
      "image/png": "[encoded data removed]",
      "text/plain": [
       "<Figure size 360x360 with 1 Axes>"
      ]
     },
     "metadata": {
      "needs_background": "light"
     },
     "output_type": "display_data"
    }
   ],
   "source": [
    "#Idade que começou a trabalhar\n",
    "sns.catplot(x= 'Attrition', y=\"AgeStartedWorking\", kind=\"box\", data=data)\n"
   ]
  },
  {
   "cell_type": "markdown",
   "metadata": {},
   "source": [
    "Podemos perceber que a média de idade dos funcionários que pediram demissão é menor do que os demais, seguido\n",
    "por aqueles que pediram demissão.Ou seja,nessa caso, os funcionários mais novos aparentam ser menos estáveis."
   ]
  },
  {
   "cell_type": "code",
   "execution_count": 40,
   "metadata": {},
   "outputs": [
    {
     "data": {
      "text/plain": [
       "<seaborn.axisgrid.FacetGrid at 0x7f2fc28b9890>"
      ]
     },
     "execution_count": 40,
     "metadata": {},
     "output_type": "execute_result"
    },
    {
     "data": {
      "image/png": "[encoded data removed]",
      "text/plain": [
       "<Figure size 360x360 with 1 Axes>"
      ]
     },
     "metadata": {
      "needs_background": "light"
     },
     "output_type": "display_data"
    }
   ],
   "source": [
    "# Verificando o padrão em relação à distância da casa do funcionário da empresa\n",
    "sns.catplot(x= 'Attrition', y=\"DistanceFromHome\", kind=\"box\", data=data)"
   ]
  },
  {
   "cell_type": "markdown",
   "metadata": {},
   "source": [
    "Podemos ver uma diferença significativa naqueles funcionários que foram demitidos. A distância de suas casas para\n",
    "a empresa é maior, assim como aqueles que pediram demissão, porém com uma diferença menor. Assim, aqueles funcionários que \"moram mais longe\", tendem a ser menos estáveis."
   ]
  },
  {
   "cell_type": "markdown",
   "metadata": {},
   "source": [
    "=================================================================================================================="
   ]
  },
  {
   "cell_type": "code",
   "execution_count": 41,
   "metadata": {},
   "outputs": [],
   "source": [
    "current = data[data['Attrition'] == \"Current employee\"]\n",
    "voluntary = data[data['Attrition'] == \"Voluntary Resignation\"]\n",
    "termination = data[data['Attrition'] == \"Termination\"]\n",
    "\n",
    "current.drop('Attrition', axis=1, inplace=True)\n",
    "termination.drop('Attrition', axis=1, inplace=True)\n",
    "voluntary.drop('Attrition', axis=1, inplace=True)"
   ]
  },
  {
   "cell_type": "markdown",
   "metadata": {},
   "source": [
    "=================================================================================================================="
   ]
  },
  {
   "cell_type": "markdown",
   "metadata": {},
   "source": [
    "### Padrão da Idade em relação ao Attrition"
   ]
  },
  {
   "cell_type": "code",
   "execution_count": 42,
   "metadata": {},
   "outputs": [
    {
     "data": {
      "text/plain": [
       "<matplotlib.axes._subplots.AxesSubplot at 0x7f2fc2868310>"
      ]
     },
     "execution_count": 42,
     "metadata": {},
     "output_type": "execute_result"
    },
    {
     "data": {
      "image/png": "[encoded data removed]",
      "text/plain": [
       "<Figure size 720x576 with 1 Axes>"
      ]
     },
     "metadata": {
      "needs_background": "light"
     },
     "output_type": "display_data"
    }
   ],
   "source": [
    "#Padrão da Idade dos funcionários empregados\n",
    "sns.countplot('Age', data=current)"
   ]
  },
  {
   "cell_type": "code",
   "execution_count": 43,
   "metadata": {},
   "outputs": [
    {
     "data": {
      "text/plain": [
       "<matplotlib.axes._subplots.AxesSubplot at 0x7f2fc275d510>"
      ]
     },
     "execution_count": 43,
     "metadata": {},
     "output_type": "execute_result"
    },
    {
     "data": {
      "image/png": "[encoded data removed]",
      "text/plain": [
       "<Figure size 720x576 with 1 Axes>"
      ]
     },
     "metadata": {
      "needs_background": "light"
     },
     "output_type": "display_data"
    }
   ],
   "source": [
    "#Padrão da Idade dos funcionários que pediram demissão\n",
    "sns.countplot('Age', data=voluntary)"
   ]
  },
  {
   "cell_type": "code",
   "execution_count": 44,
   "metadata": {},
   "outputs": [
    {
     "data": {
      "text/plain": [
       "<matplotlib.axes._subplots.AxesSubplot at 0x7f2fc260f710>"
      ]
     },
     "execution_count": 44,
     "metadata": {},
     "output_type": "execute_result"
    },
    {
     "data": {
      "image/png": "[encoded data removed]",
      "text/plain": [
       "<Figure size 720x576 with 1 Axes>"
      ]
     },
     "metadata": {
      "needs_background": "light"
     },
     "output_type": "display_data"
    }
   ],
   "source": [
    "#Padrão da Idade dos funcionários que foram demitidos\n",
    "sns.countplot('Age', data=termination)"
   ]
  },
  {
   "cell_type": "markdown",
   "metadata": {},
   "source": [
    "=================================================================================================================="
   ]
  },
  {
   "cell_type": "markdown",
   "metadata": {},
   "source": [
    "## Padrão do Gênero em relação ao Attrition"
   ]
  },
  {
   "cell_type": "code",
   "execution_count": 45,
   "metadata": {},
   "outputs": [
    {
     "data": {
      "text/plain": [
       "<matplotlib.axes._subplots.AxesSubplot at 0x7f2fc2606c10>"
      ]
     },
     "execution_count": 45,
     "metadata": {},
     "output_type": "execute_result"
    },
    {
     "data": {
      "image/png": "[encoded data removed]",
      "text/plain": [
       "<Figure size 720x576 with 1 Axes>"
      ]
     },
     "metadata": {
      "needs_background": "light"
     },
     "output_type": "display_data"
    }
   ],
   "source": [
    "#Verificando a quantidade de mulheres e homens que foram demitidos\n",
    "sns.countplot(\"Gender\", data=termination,palette=\"ch:.25\")"
   ]
  },
  {
   "cell_type": "code",
   "execution_count": 46,
   "metadata": {},
   "outputs": [
    {
     "data": {
      "text/plain": [
       "<matplotlib.axes._subplots.AxesSubplot at 0x7f2fc2552690>"
      ]
     },
     "execution_count": 46,
     "metadata": {},
     "output_type": "execute_result"
    },
    {
     "data": {
      "image/png": "[encoded data removed]",
      "text/plain": [
       "<Figure size 720x576 with 1 Axes>"
      ]
     },
     "metadata": {
      "needs_background": "light"
     },
     "output_type": "display_data"
    }
   ],
   "source": [
    "#Verificando a quantidade de mulheres e homens que pediram demissão\n",
    "sns.countplot(\"Gender\", data=voluntary,palette=\"ch:.25\")"
   ]
  },
  {
   "cell_type": "code",
   "execution_count": 47,
   "metadata": {},
   "outputs": [
    {
     "data": {
      "text/plain": [
       "<matplotlib.axes._subplots.AxesSubplot at 0x7f2fc2526990>"
      ]
     },
     "execution_count": 47,
     "metadata": {},
     "output_type": "execute_result"
    },
    {
     "data": {
      "image/png": "[encoded data removed]",
      "text/plain": [
       "<Figure size 720x576 with 1 Axes>"
      ]
     },
     "metadata": {
      "needs_background": "light"
     },
     "output_type": "display_data"
    }
   ],
   "source": [
    "#Verificando a quantidade de mulheres e homens que continuam empregados\n",
    "sns.countplot(\"Gender\", data=current,palette=\"ch:.25\")"
   ]
  },
  {
   "cell_type": "markdown",
   "metadata": {},
   "source": [
    "=================================================================================================================="
   ]
  },
  {
   "cell_type": "markdown",
   "metadata": {},
   "source": [
    "## Padrão do Departamento do Funcionário em relação ao Attrition"
   ]
  },
  {
   "cell_type": "code",
   "execution_count": 48,
   "metadata": {},
   "outputs": [
    {
     "data": {
      "image/png": "[encoded data removed]",
      "text/plain": [
       "<Figure size 576x432 with 1 Axes>"
      ]
     },
     "metadata": {
      "needs_background": "light"
     },
     "output_type": "display_data"
    }
   ],
   "source": [
    "#criando uma figure, axes, alterando tamanho\n",
    "fig, ax = plt.subplots(figsize=(8,6))\n",
    "#criando o gráfico de barras\n",
    "sns.countplot(\"Department\", data=data,palette=\"ch:.25\")\n",
    "#adicionando título\n",
    "ax.set_title(\"Quantidade de funcionários por Departamento\", fontdict={'fontsize':15})\n",
    "#mudando e nome e tamanho do label x\n",
    "ax.set_xlabel('Departamento', fontdict={'fontsize':12})\n",
    "#mudando tamanho do label eixo y\n",
    "ax.set_ylabel('Total')\n",
    "#mudando tamanho dos labels dos ticks\n",
    "ax.tick_params(labelsize=12)\n",
    "#aumentando espessura linha inferior\n",
    "ax.spines['bottom'].set_linewidth(2.5)\n",
    "#remoção dos outros três axis\n",
    "for axis in ['top', 'right', 'left']:\n",
    "    ax.spines[axis].set_color(None)\n",
    "#remoção dos ticks\n",
    "ax.tick_params(axis='y', labelleft=False, left=None) \n",
    "\n",
    "#Colocando valores\n",
    "for p in ax.patches:\n",
    "    ax.annotate(str(p.get_height()), (p.get_x() * 1.005, p.get_height() * 1.005))\n",
    "\n",
    "#otimizar espaço da figure\n",
    "fig.tight_layout();\n",
    "\n"
   ]
  },
  {
   "cell_type": "code",
   "execution_count": 90,
   "metadata": {},
   "outputs": [
    {
     "name": "stdout",
     "output_type": "stream",
     "text": [
      "Porcentagem de funcionários-Departamento Sales: 30.39%\n",
      "Porcentagem de funcionários-Departamento Research: 65.23%\n",
      "Porcentagem de funcionários-Departamento Resource: 4.38%\n"
     ]
    }
   ],
   "source": [
    "#Porcentagem de Funcionários por Departamento\n",
    "total = len(data['Department'])\n",
    "sales_total = len(data[data['Department'] == 'Sales'])\n",
    "research_total = len(data[data['Department'] == 'Research & Development'])\n",
    "resources_total = len(data[data['Department'] == 'Human Resources'])\n",
    "\n",
    "porc_sales_total = (sales_total/total)\n",
    "porc_research_total = (research_total/total)\n",
    "resources_total = (resources_total/total)\n",
    "\n",
    "print('Porcentagem de funcionários-Departamento Sales: {:.2%}'.format(porc_sales_total,2))\n",
    "print('Porcentagem de funcionários-Departamento Research: {:.2%}'.format(porc_research_total,2))\n",
    "print('Porcentagem de funcionários-Departamento Resource: {:.2%}'.format(resources_total,2))"
   ]
  },
  {
   "cell_type": "code",
   "execution_count": 49,
   "metadata": {},
   "outputs": [
    {
     "data": {
      "image/png": "[encoded data removed]",
      "text/plain": [
       "<Figure size 576x432 with 1 Axes>"
      ]
     },
     "metadata": {
      "needs_background": "light"
     },
     "output_type": "display_data"
    }
   ],
   "source": [
    "#criando uma figure, axes, alterando tamanho\n",
    "fig, ax = plt.subplots(figsize=(8,6))\n",
    "#criando o gráfico de barras\n",
    "sns.countplot(\"Department\", data=voluntary,palette=\"ch:.25\")\n",
    "#adicionando título\n",
    "ax.set_title(\"Demissão Voluntária - Departamento\", fontdict={'fontsize':15})\n",
    "#mudando e nome e tamanho do label x\n",
    "ax.set_xlabel('Departamento', fontdict={'fontsize':12})\n",
    "#mudando tamanho do label eixo y\n",
    "ax.set_ylabel('Total')\n",
    "#mudando tamanho dos labels dos ticks\n",
    "ax.tick_params(labelsize=12)\n",
    "#aumentando espessura linha inferior\n",
    "ax.spines['bottom'].set_linewidth(2.5)\n",
    "#remoção dos outros três axis\n",
    "for axis in ['top', 'right', 'left']:\n",
    "    ax.spines[axis].set_color(None)\n",
    "#remoção dos ticks\n",
    "ax.tick_params(axis='y', labelleft=False, left=None) \n",
    "\n",
    "#Colocando valores\n",
    "for p in ax.patches:\n",
    "    ax.annotate(str(p.get_height()), (p.get_x() * 1.005, p.get_height() * 1.005))\n",
    "\n",
    "#otimizar espaço da figure\n",
    "fig.tight_layout();\n"
   ]
  },
  {
   "cell_type": "code",
   "execution_count": 91,
   "metadata": {},
   "outputs": [
    {
     "name": "stdout",
     "output_type": "stream",
     "text": [
      "Porcentagem de funcionários-Departamento Sales: 38.96%\n",
      "Porcentagem de funcionários-Departamento Research: 55.79%\n",
      "Porcentagem de funcionários-Departamento Resource: 5.25%\n"
     ]
    }
   ],
   "source": [
    "#Porcentagem de Funcionários por Departamento\n",
    "total_vol = len(voluntary['Department'])\n",
    "sales_vol = len(voluntary[voluntary['Department'] == 'Sales'])\n",
    "research_vol = len(voluntary[voluntary['Department'] == 'Research & Development'])\n",
    "resources_vol = len(voluntary[voluntary['Department'] == 'Human Resources'])\n",
    "\n",
    "porc_sales_vol = (sales_vol/total_vol)\n",
    "porc_research_vol = (research_vol/total_vol)\n",
    "resources_vol = (resources_vol/total_vol)\n",
    "\n",
    "print('Porcentagem de funcionários-Departamento Sales: {:.2%}'.format(porc_sales_vol,2))\n",
    "print('Porcentagem de funcionários-Departamento Research: {:.2%}'.format(porc_research_vol,2))\n",
    "print('Porcentagem de funcionários-Departamento Resource: {:.2%}'.format(resources_vol,2))"
   ]
  },
  {
   "cell_type": "code",
   "execution_count": 50,
   "metadata": {},
   "outputs": [
    {
     "data": {
      "image/png": "[encoded data removed]",
      "text/plain": [
       "<Figure size 576x432 with 1 Axes>"
      ]
     },
     "metadata": {
      "needs_background": "light"
     },
     "output_type": "display_data"
    }
   ],
   "source": [
    "#criando uma figure, axes, alterando tamanho\n",
    "fig, ax = plt.subplots(figsize=(8,6))\n",
    "#criando o gráfico de barras\n",
    "sns.countplot(\"Department\", data=termination,palette=\"ch:.25\")\n",
    "#adicionando título\n",
    "ax.set_title(\"Demissão Compulsória - Departamento\", fontdict={'fontsize':15})\n",
    "#mudando e nome e tamanho do label x\n",
    "ax.set_xlabel('Departamento', fontdict={'fontsize':12})\n",
    "#mudando tamanho do label eixo y\n",
    "ax.set_ylabel('Total')\n",
    "#mudando tamanho dos labels dos ticks\n",
    "ax.tick_params(labelsize=12)\n",
    "#aumentando espessura linha inferior\n",
    "ax.spines['bottom'].set_linewidth(2.5)\n",
    "#remoção dos outros três axis\n",
    "for axis in ['top', 'right', 'left']:\n",
    "    ax.spines[axis].set_color(None)\n",
    "#remoção dos ticks\n",
    "ax.tick_params(axis='y', labelleft=False, left=None) \n",
    "\n",
    "#Colocando valores\n",
    "for p in ax.patches:\n",
    "    ax.annotate(str(p.get_height()), (p.get_x() * 1.005, p.get_height() * 1.005))\n",
    "\n",
    "#otimizar espaço da figure\n",
    "fig.tight_layout();\n",
    "\n"
   ]
  },
  {
   "cell_type": "code",
   "execution_count": 93,
   "metadata": {},
   "outputs": [
    {
     "name": "stdout",
     "output_type": "stream",
     "text": [
      "Porcentagem de demissão -departamento de vendas: 27.59%\n",
      "Porcentagem de demissão-departamento de pesquisa: 72.41%\n"
     ]
    }
   ],
   "source": [
    "comp = len(termination['Department'])\n",
    "sales = len(termination[termination['Department'] == 'Sales'])\n",
    "research = len(termination[termination['Department'] == 'Research & Development'])\n",
    "resources = len(termination[termination['Department'] == 'Human Resources'])\n",
    "\n",
    "porc_sales = (sales/comp)\n",
    "porc_research = (research/comp)\n",
    "\n",
    "\n",
    "print('Porcentagem de demissão -departamento de vendas: {:.2%}'.format(porc_sales,2))\n",
    "print('Porcentagem de demissão-departamento de pesquisa: {:.2%}'.format(porc_research,2))\n"
   ]
  },
  {
   "cell_type": "markdown",
   "metadata": {},
   "source": [
    "=================================================================================================================="
   ]
  },
  {
   "cell_type": "markdown",
   "metadata": {},
   "source": [
    "## Padrão do Status Civil em relação ao Attrition"
   ]
  },
  {
   "cell_type": "code",
   "execution_count": 95,
   "metadata": {},
   "outputs": [
    {
     "name": "stdout",
     "output_type": "stream",
     "text": [
      "Porcentagem de funcionários-Casados: 45.72%\n",
      "Porcentagem de funcionários-Solteiros: 31.88%\n",
      "Porcentagem de funcionários-Divorciados: 22.39%\n"
     ]
    }
   ],
   "source": [
    "#Porcentagem de Funcionários por Estado Civil\n",
    "total_civil = len(data['MaritalStatus'])\n",
    "married = len(data[data['MaritalStatus'] == 'Married'])\n",
    "single = len(data[data['MaritalStatus'] == 'Single'])\n",
    "divorced = len(data[data['MaritalStatus'] == 'Divorced'])\n",
    "\n",
    "porc_married = (married/total_civil)\n",
    "porc_single = (single/total_civil)\n",
    "porc_divorced = (divorced/total_civil)\n",
    "\n",
    "print('Porcentagem de funcionários-Casados: {:.2%}'.format(porc_married,2))\n",
    "print('Porcentagem de funcionários-Solteiros: {:.2%}'.format(porc_single,2))\n",
    "print('Porcentagem de funcionários-Divorciados: {:.2%}'.format(porc_divorced,2))"
   ]
  },
  {
   "cell_type": "code",
   "execution_count": 94,
   "metadata": {},
   "outputs": [
    {
     "data": {
      "text/plain": [
       "Married     10543\n",
       "Single       7352\n",
       "Divorced     5163\n",
       "Name: MaritalStatus, dtype: int64"
      ]
     },
     "execution_count": 94,
     "metadata": {},
     "output_type": "execute_result"
    }
   ],
   "source": [
    "data['MaritalStatus'].value_counts()"
   ]
  },
  {
   "cell_type": "code",
   "execution_count": 51,
   "metadata": {},
   "outputs": [
    {
     "data": {
      "image/png": "[encoded data removed]",
      "text/plain": [
       "<Figure size 576x432 with 1 Axes>"
      ]
     },
     "metadata": {
      "needs_background": "light"
     },
     "output_type": "display_data"
    }
   ],
   "source": [
    "#criando uma figure, axes, alterando tamanho\n",
    "fig, ax = plt.subplots(figsize=(8,6))\n",
    "#criando o gráfico de barras\n",
    "sns.countplot(\"MaritalStatus\", data=termination,palette=\"ch:.25\")\n",
    "#adicionando título\n",
    "ax.set_title(\"Demissão Compulsória - Status Civil\", fontdict={'fontsize':15})\n",
    "#mudando e nome e tamanho do label x\n",
    "ax.set_xlabel('Departamento', fontdict={'fontsize':12})\n",
    "#mudando tamanho do label eixo y\n",
    "ax.set_ylabel('Total')\n",
    "#mudando tamanho dos labels dos ticks\n",
    "ax.tick_params(labelsize=12)\n",
    "#aumentando espessura linha inferior\n",
    "ax.spines['bottom'].set_linewidth(2.5)\n",
    "#remoção dos outros três axis\n",
    "for axis in ['top', 'right', 'left']:\n",
    "    ax.spines[axis].set_color(None)\n",
    "#remoção dos ticks\n",
    "ax.tick_params(axis='y', labelleft=False, left=None) \n",
    "\n",
    "#Colocando valores\n",
    "for p in ax.patches:\n",
    "    ax.annotate(str(p.get_height()), (p.get_x() * 1.005, p.get_height() * 1.005))\n",
    "\n",
    "#otimizar espaço da figure\n",
    "fig.tight_layout();\n"
   ]
  },
  {
   "cell_type": "code",
   "execution_count": 97,
   "metadata": {},
   "outputs": [
    {
     "name": "stdout",
     "output_type": "stream",
     "text": [
      "Porcentagem de funcionários-Casados: 47.13%\n",
      "Porcentagem de funcionários-Solteiros: 35.63%\n",
      "Porcentagem de funcionários-Divorciados: 17.24%\n"
     ]
    }
   ],
   "source": [
    "#Porcentagem de Funcionários Demitidos por Estado Civil\n",
    "total_marital = len(termination['MaritalStatus'])\n",
    "married = len(termination[termination['MaritalStatus'] == 'Married'])\n",
    "single = len(termination[termination['MaritalStatus'] == 'Single'])\n",
    "divorced = len(termination[termination['MaritalStatus'] == 'Divorced'])\n",
    "\n",
    "porc_married = (married/total_marital)\n",
    "porc_single = (single/total_marital)\n",
    "porc_divorced = (divorced/total_marital)\n",
    "\n",
    "print('Porcentagem de funcionários-Casados: {:.2%}'.format(porc_married,2))\n",
    "print('Porcentagem de funcionários-Solteiros: {:.2%}'.format(porc_single,2))\n",
    "print('Porcentagem de funcionários-Divorciados: {:.2%}'.format(porc_divorced,2))"
   ]
  },
  {
   "cell_type": "code",
   "execution_count": 52,
   "metadata": {},
   "outputs": [
    {
     "data": {
      "image/png": "[encoded data removed]",
      "text/plain": [
       "<Figure size 576x432 with 1 Axes>"
      ]
     },
     "metadata": {
      "needs_background": "light"
     },
     "output_type": "display_data"
    }
   ],
   "source": [
    "#criando uma figure, axes, alterando tamanho\n",
    "fig, ax = plt.subplots(figsize=(8,6))\n",
    "#criando o gráfico de barras\n",
    "sns.countplot(\"MaritalStatus\", data=voluntary,palette=\"ch:.25\")\n",
    "#adicionando título\n",
    "ax.set_title(\"Demissão Voluntária - Status Civil\", fontdict={'fontsize':15})\n",
    "#mudando e nome e tamanho do label x\n",
    "ax.set_xlabel('Departamento', fontdict={'fontsize':12})\n",
    "#mudando tamanho do label eixo y\n",
    "ax.set_ylabel('Total')\n",
    "#mudando tamanho dos labels dos ticks\n",
    "ax.tick_params(labelsize=12)\n",
    "#aumentando espessura linha inferior\n",
    "ax.spines['bottom'].set_linewidth(2.5)\n",
    "#remoção dos outros três axis\n",
    "for axis in ['top', 'right', 'left']:\n",
    "    ax.spines[axis].set_color(None)\n",
    "#remoção dos ticks\n",
    "ax.tick_params(axis='y', labelleft=False, left=None) \n",
    "\n",
    "#Colocando valores\n",
    "for p in ax.patches:\n",
    "    ax.annotate(str(p.get_height()), (p.get_x() * 1.005, p.get_height() * 1.005))\n",
    "\n",
    "#otimizar espaço da figure\n",
    "fig.tight_layout();"
   ]
  },
  {
   "cell_type": "code",
   "execution_count": 98,
   "metadata": {},
   "outputs": [
    {
     "name": "stdout",
     "output_type": "stream",
     "text": [
      "Porcentagem de funcionários-Casados: 38.21%\n",
      "Porcentagem de funcionários-Solteiros: 45.63%\n",
      "Porcentagem de funcionários-Divorciados: 16.16%\n"
     ]
    }
   ],
   "source": [
    "#Porcentagem de Funcionários Demitidos por Estado Civil\n",
    "total_vol = len(voluntary['MaritalStatus'])\n",
    "married = len(voluntary[voluntary['MaritalStatus'] == 'Married'])\n",
    "single = len(voluntary[voluntary['MaritalStatus'] == 'Single'])\n",
    "divorced = len(voluntary[voluntary['MaritalStatus'] == 'Divorced'])\n",
    "\n",
    "porc_married = (married/total_vol)\n",
    "porc_single = (single/total_vol)\n",
    "porc_divorced = (divorced/total_vol)\n",
    "\n",
    "print('Porcentagem de funcionários-Casados: {:.2%}'.format(porc_married,2))\n",
    "print('Porcentagem de funcionários-Solteiros: {:.2%}'.format(porc_single,2))\n",
    "print('Porcentagem de funcionários-Divorciados: {:.2%}'.format(porc_divorced,2))"
   ]
  },
  {
   "cell_type": "markdown",
   "metadata": {},
   "source": [
    "=================================================================================================================="
   ]
  },
  {
   "cell_type": "markdown",
   "metadata": {},
   "source": [
    "## Padrão para Viagens"
   ]
  },
  {
   "cell_type": "code",
   "execution_count": 53,
   "metadata": {},
   "outputs": [
    {
     "data": {
      "image/png": "[encoded data removed]",
      "text/plain": [
       "<Figure size 576x432 with 1 Axes>"
      ]
     },
     "metadata": {
      "needs_background": "light"
     },
     "output_type": "display_data"
    }
   ],
   "source": [
    "#criando uma figure, axes, alterando tamanho\n",
    "fig, ax = plt.subplots(figsize=(8,6))\n",
    "#criando o gráfico de barras\n",
    "sns.countplot(\"BusinessTravel\", data=voluntary,palette=\"ch:.25\")\n",
    "#adicionando título\n",
    "ax.set_title(\"Demissão Voluntária - Viagens\", fontdict={'fontsize':15})\n",
    "#mudando e nome e tamanho do label x\n",
    "ax.set_xlabel('Departamento', fontdict={'fontsize':12})\n",
    "#mudando tamanho do label eixo y\n",
    "ax.set_ylabel('Total')\n",
    "#mudando tamanho dos labels dos ticks\n",
    "ax.tick_params(labelsize=12)\n",
    "#aumentando espessura linha inferior\n",
    "ax.spines['bottom'].set_linewidth(2.5)\n",
    "#remoção dos outros três axis\n",
    "for axis in ['top', 'right', 'left']:\n",
    "    ax.spines[axis].set_color(None)\n",
    "#remoção dos ticks\n",
    "ax.tick_params(axis='y', labelleft=False, left=None) \n",
    "\n",
    "#Colocando valores\n",
    "for p in ax.patches:\n",
    "    ax.annotate(str(p.get_height()), (p.get_x() * 1.005, p.get_height() * 1.005))\n",
    "\n",
    "#otimizar espaço da figure\n",
    "fig.tight_layout();"
   ]
  },
  {
   "cell_type": "code",
   "execution_count": 102,
   "metadata": {},
   "outputs": [
    {
     "name": "stdout",
     "output_type": "stream",
     "text": [
      "Porcentagem de funcionários-Raramente Viajam: 70.85%\n",
      "Porcentagem de funcionários-Frequentemente Viajam: 18.99%\n",
      "Porcentagem de funcionários-Não Viajam: 10.17%\n"
     ]
    }
   ],
   "source": [
    "#Porcentagem de Funcionários Total por Status de Viagem\n",
    "total_trav = len(data['BusinessTravel'])\n",
    "rarely = len(data[data['BusinessTravel'] == 'Travel_Rarely'])\n",
    "freq = len(data[data['BusinessTravel'] == 'Travel_Frequently'])\n",
    "no_travel = len(data[data['BusinessTravel'] == 'Non-Travel'])\n",
    "\n",
    "porc_rarely = (rarely/total_trav)\n",
    "porc_freq = (freq/total_trav)\n",
    "porc_no = (no_travel/total_trav)\n",
    "\n",
    "print('Porcentagem de funcionários-Raramente Viajam: {:.2%}'.format(porc_rarely,2))\n",
    "print('Porcentagem de funcionários-Frequentemente Viajam: {:.2%}'.format(porc_freq,2))\n",
    "print('Porcentagem de funcionários-Não Viajam: {:.2%}'.format(porc_no,2))"
   ]
  },
  {
   "cell_type": "code",
   "execution_count": 103,
   "metadata": {},
   "outputs": [
    {
     "name": "stdout",
     "output_type": "stream",
     "text": [
      "Porcentagem de funcionários-Raramente Viajam: 64.95%\n",
      "Porcentagem de funcionários-Frequentemente Viajam: 29.77%\n",
      "Porcentagem de funcionários-Não Viajam: 5.28%\n"
     ]
    }
   ],
   "source": [
    "#Porcentagem de Funcionários Demissão Voluntária por Status de Viagem\n",
    "total_vol = len(voluntary['BusinessTravel'])\n",
    "rarely_vol = len(voluntary[voluntary['BusinessTravel'] == 'Travel_Rarely'])\n",
    "freq_vol = len(voluntary[voluntary['BusinessTravel'] == 'Travel_Frequently'])\n",
    "no_travel_vol = len(voluntary[voluntary['BusinessTravel'] == 'Non-Travel'])\n",
    "\n",
    "porc_rarely = (rarely_vol/total_vol)\n",
    "porc_freq = (freq_vol/total_vol)\n",
    "porc_no = (no_travel_vol/total_vol)\n",
    "\n",
    "print('Porcentagem de funcionários-Raramente Viajam: {:.2%}'.format(porc_rarely,2))\n",
    "print('Porcentagem de funcionários-Frequentemente Viajam: {:.2%}'.format(porc_freq,2))\n",
    "print('Porcentagem de funcionários-Não Viajam: {:.2%}'.format(porc_no,2))"
   ]
  },
  {
   "cell_type": "code",
   "execution_count": 100,
   "metadata": {},
   "outputs": [
    {
     "data": {
      "text/plain": [
       "Travel_Rarely        16336\n",
       "Travel_Frequently     4378\n",
       "Non-Travel            2344\n",
       "Name: BusinessTravel, dtype: int64"
      ]
     },
     "execution_count": 100,
     "metadata": {},
     "output_type": "execute_result"
    }
   ],
   "source": [
    "data['BusinessTravel'].value_counts()"
   ]
  },
  {
   "cell_type": "code",
   "execution_count": 56,
   "metadata": {},
   "outputs": [
    {
     "data": {
      "image/png": "[encoded data removed]",
      "text/plain": [
       "<Figure size 576x432 with 1 Axes>"
      ]
     },
     "metadata": {
      "needs_background": "light"
     },
     "output_type": "display_data"
    }
   ],
   "source": [
    "#criando uma figure, axes, alterando tamanho\n",
    "fig, ax = plt.subplots(figsize=(8,6))\n",
    "#criando o gráfico de barras\n",
    "sns.countplot(\"BusinessTravel\", data=termination,palette=\"ch:.25\")\n",
    "#adicionando título\n",
    "ax.set_title(\"Demissão Compulsória- Viagens\", fontdict={'fontsize':15})\n",
    "#mudando e nome e tamanho do label x\n",
    "ax.set_xlabel('Departamento', fontdict={'fontsize':12})\n",
    "#mudando tamanho do label eixo y\n",
    "ax.set_ylabel('Total')\n",
    "#mudando tamanho dos labels dos ticks\n",
    "ax.tick_params(labelsize=12)\n",
    "#aumentando espessura linha inferior\n",
    "ax.spines['bottom'].set_linewidth(2.5)\n",
    "#remoção dos outros três axis\n",
    "for axis in ['top', 'right', 'left']:\n",
    "    ax.spines[axis].set_color(None)\n",
    "#remoção dos ticks\n",
    "ax.tick_params(axis='y', labelleft=False, left=None) \n",
    "\n",
    "#Colocando valores\n",
    "for p in ax.patches:\n",
    "    ax.annotate(str(p.get_height()), (p.get_x() * 1.005, p.get_height() * 1.005))\n",
    "\n",
    "#otimizar espaço da figure\n",
    "fig.tight_layout();"
   ]
  },
  {
   "cell_type": "code",
   "execution_count": 104,
   "metadata": {},
   "outputs": [
    {
     "name": "stdout",
     "output_type": "stream",
     "text": [
      "Porcentagem de funcionários-Raramente Viajam: 82.76%\n",
      "Porcentagem de funcionários-Frequentemente Viajam: 17.24%\n",
      "Porcentagem de funcionários-Não Viajam: 0.00%\n"
     ]
    }
   ],
   "source": [
    "#Porcentagem de Funcionários Demissão Compulsoria por Status de Viagem\n",
    "total_term = len(termination['BusinessTravel'])\n",
    "rarely_term = len(termination[termination['BusinessTravel'] == 'Travel_Rarely'])\n",
    "freq_term = len(termination[termination['BusinessTravel'] == 'Travel_Frequently'])\n",
    "no_travel_term = len(termination[termination['BusinessTravel'] == 'Non-Travel'])\n",
    "\n",
    "porc_rarely = (rarely_term/total_term)\n",
    "porc_freq = (freq_term/total_term)\n",
    "porc_no = (no_travel_term/total_term)\n",
    "\n",
    "print('Porcentagem de funcionários-Raramente Viajam: {:.2%}'.format(porc_rarely,2))\n",
    "print('Porcentagem de funcionários-Frequentemente Viajam: {:.2%}'.format(porc_freq,2))\n",
    "print('Porcentagem de funcionários-Não Viajam: {:.2%}'.format(porc_no,2))"
   ]
  },
  {
   "cell_type": "markdown",
   "metadata": {},
   "source": [
    "=================================================================================================================="
   ]
  },
  {
   "cell_type": "markdown",
   "metadata": {},
   "source": [
    "## Padrão em relação à Educação"
   ]
  },
  {
   "cell_type": "code",
   "execution_count": 57,
   "metadata": {},
   "outputs": [
    {
     "data": {
      "image/png": "[encoded data removed]",
      "text/plain": [
       "<Figure size 576x432 with 1 Axes>"
      ]
     },
     "metadata": {
      "needs_background": "light"
     },
     "output_type": "display_data"
    }
   ],
   "source": [
    "#criando uma figure, axes, alterando tamanho\n",
    "fig, ax = plt.subplots(figsize=(8,6))\n",
    "#criando o gráfico de barras\n",
    "sns.countplot(\"EducationField\", data=termination,palette=\"ch:.25\")\n",
    "#adicionando título\n",
    "ax.set_title(\"Demissão Compulsória - Educação\", fontdict={'fontsize':15})\n",
    "#mudando e nome e tamanho do label x\n",
    "ax.set_xlabel('Departamento', fontdict={'fontsize':12})\n",
    "#mudando tamanho do label eixo y\n",
    "ax.set_ylabel('Total')\n",
    "#mudando tamanho dos labels dos ticks\n",
    "ax.tick_params(labelsize=12)\n",
    "#aumentando espessura linha inferior\n",
    "ax.spines['bottom'].set_linewidth(2.5)\n",
    "#remoção dos outros três axis\n",
    "for axis in ['top', 'right', 'left']:\n",
    "    ax.spines[axis].set_color(None)\n",
    "#remoção dos ticks\n",
    "ax.tick_params(axis='y', labelleft=False, left=None) \n",
    "\n",
    "#Colocando valores\n",
    "for p in ax.patches:\n",
    "    ax.annotate(str(p.get_height()), (p.get_x() * 1.005, p.get_height() * 1.005))\n",
    "\n",
    "#otimizar espaço da figure\n",
    "fig.tight_layout();"
   ]
  },
  {
   "cell_type": "code",
   "execution_count": 58,
   "metadata": {},
   "outputs": [
    {
     "data": {
      "image/png": "[encoded data removed]",
      "text/plain": [
       "<Figure size 576x432 with 1 Axes>"
      ]
     },
     "metadata": {
      "needs_background": "light"
     },
     "output_type": "display_data"
    }
   ],
   "source": [
    "#criando uma figure, axes, alterando tamanho\n",
    "fig, ax = plt.subplots(figsize=(8,6))\n",
    "#criando o gráfico de barras\n",
    "sns.countplot(\"EducationField\", data=voluntary,palette=\"ch:.25\")\n",
    "#adicionando título\n",
    "ax.set_title(\"Demissão Voluntária - Educação\", fontdict={'fontsize':15})\n",
    "#mudando e nome e tamanho do label x\n",
    "ax.set_xlabel('Departamento', fontdict={'fontsize':12})\n",
    "#mudando tamanho do label eixo y\n",
    "ax.set_ylabel('Total')\n",
    "#mudando tamanho dos labels dos ticks\n",
    "ax.tick_params(labelsize=12)\n",
    "#aumentando espessura linha inferior\n",
    "ax.spines['bottom'].set_linewidth(2.5)\n",
    "#remoção dos outros três axis\n",
    "for axis in ['top', 'right', 'left']:\n",
    "    ax.spines[axis].set_color(None)\n",
    "#remoção dos ticks\n",
    "ax.tick_params(axis='y', labelleft=False, left=None) \n",
    "\n",
    "#Colocando valores\n",
    "for p in ax.patches:\n",
    "    ax.annotate(str(p.get_height()), (p.get_x() * 1.005, p.get_height() * 1.005))\n",
    "\n",
    "#otimizar espaço da figure\n",
    "fig.tight_layout();"
   ]
  },
  {
   "cell_type": "markdown",
   "metadata": {},
   "source": [
    "=================================================================================================================="
   ]
  },
  {
   "cell_type": "markdown",
   "metadata": {},
   "source": [
    "## Padrão em relação à Satisfação"
   ]
  },
  {
   "cell_type": "code",
   "execution_count": 59,
   "metadata": {},
   "outputs": [
    {
     "data": {
      "image/png": "[encoded data removed]",
      "text/plain": [
       "<Figure size 576x432 with 1 Axes>"
      ]
     },
     "metadata": {
      "needs_background": "light"
     },
     "output_type": "display_data"
    }
   ],
   "source": [
    "#criando uma figure, axes, alterando tamanho\n",
    "fig, ax = plt.subplots(figsize=(8,6))\n",
    "#criando o gráfico de barras\n",
    "sns.countplot(\"EnvironmentSatisfaction\", data=termination,palette=\"ch:.25\")\n",
    "#adicionando título\n",
    "ax.set_title(\"Demissão Compulsória - Satisfação\", fontdict={'fontsize':15})\n",
    "#mudando e nome e tamanho do label x\n",
    "ax.set_xlabel('Departamento', fontdict={'fontsize':12})\n",
    "#mudando tamanho do label eixo y\n",
    "ax.set_ylabel('Total')\n",
    "#mudando tamanho dos labels dos ticks\n",
    "ax.tick_params(labelsize=12)\n",
    "#aumentando espessura linha inferior\n",
    "ax.spines['bottom'].set_linewidth(2.5)\n",
    "#remoção dos outros três axis\n",
    "for axis in ['top', 'right', 'left']:\n",
    "    ax.spines[axis].set_color(None)\n",
    "#remoção dos ticks\n",
    "ax.tick_params(axis='y', labelleft=False, left=None) \n",
    "\n",
    "#Colocando valores\n",
    "for p in ax.patches:\n",
    "    ax.annotate(str(p.get_height()), (p.get_x() * 1.005, p.get_height() * 1.005))\n",
    "\n",
    "#otimizar espaço da figure\n",
    "fig.tight_layout();"
   ]
  },
  {
   "cell_type": "code",
   "execution_count": 60,
   "metadata": {},
   "outputs": [
    {
     "data": {
      "image/png": "[encoded data removed]",
      "text/plain": [
       "<Figure size 576x432 with 1 Axes>"
      ]
     },
     "metadata": {
      "needs_background": "light"
     },
     "output_type": "display_data"
    }
   ],
   "source": [
    "#criando uma figure, axes, alterando tamanho\n",
    "fig, ax = plt.subplots(figsize=(8,6))\n",
    "#criando o gráfico de barras\n",
    "sns.countplot(\"EnvironmentSatisfaction\", data=voluntary,palette=\"ch:.25\")\n",
    "#adicionando título\n",
    "ax.set_title(\"Demissão Voluntária - Satisfação\", fontdict={'fontsize':15})\n",
    "#mudando e nome e tamanho do label x\n",
    "ax.set_xlabel('Departamento', fontdict={'fontsize':12})\n",
    "#mudando tamanho do label eixo y\n",
    "ax.set_ylabel('Total')\n",
    "#mudando tamanho dos labels dos ticks\n",
    "ax.tick_params(labelsize=12)\n",
    "#aumentando espessura linha inferior\n",
    "ax.spines['bottom'].set_linewidth(2.5)\n",
    "#remoção dos outros três axis\n",
    "for axis in ['top', 'right', 'left']:\n",
    "    ax.spines[axis].set_color(None)\n",
    "#remoção dos ticks\n",
    "ax.tick_params(axis='y', labelleft=False, left=None) \n",
    "\n",
    "#Colocando valores\n",
    "for p in ax.patches:\n",
    "    ax.annotate(str(p.get_height()), (p.get_x() * 1.005, p.get_height() * 1.005))\n",
    "\n",
    "#otimizar espaço da figure\n",
    "fig.tight_layout();"
   ]
  },
  {
   "cell_type": "markdown",
   "metadata": {},
   "source": [
    "=================================================================================================================="
   ]
  },
  {
   "cell_type": "markdown",
   "metadata": {},
   "source": [
    "## Padrão em relação ao número de Companhias Trabalhadas"
   ]
  },
  {
   "cell_type": "code",
   "execution_count": 61,
   "metadata": {},
   "outputs": [
    {
     "data": {
      "image/png": "[encoded data removed]",
      "text/plain": [
       "<Figure size 576x432 with 1 Axes>"
      ]
     },
     "metadata": {
      "needs_background": "light"
     },
     "output_type": "display_data"
    }
   ],
   "source": [
    "#criando uma figure, axes, alterando tamanho\n",
    "fig, ax = plt.subplots(figsize=(8,6))\n",
    "#criando o gráfico de barras\n",
    "sns.countplot(\"NumCompaniesWorked\", data=termination,palette=\"ch:.25\")\n",
    "#adicionando título\n",
    "ax.set_title(\"Demissão Compulsória - Número Cias\", fontdict={'fontsize':15})\n",
    "#mudando e nome e tamanho do label x\n",
    "ax.set_xlabel('Departamento', fontdict={'fontsize':12})\n",
    "#mudando tamanho do label eixo y\n",
    "ax.set_ylabel('Total')\n",
    "#mudando tamanho dos labels dos ticks\n",
    "ax.tick_params(labelsize=12)\n",
    "#aumentando espessura linha inferior\n",
    "ax.spines['bottom'].set_linewidth(2.5)\n",
    "#remoção dos outros três axis\n",
    "for axis in ['top', 'right', 'left']:\n",
    "    ax.spines[axis].set_color(None)\n",
    "#remoção dos ticks\n",
    "ax.tick_params(axis='y', labelleft=False, left=None) \n",
    "\n",
    "#Colocando valores\n",
    "for p in ax.patches:\n",
    "    ax.annotate(str(p.get_height()), (p.get_x() * 1.005, p.get_height() * 1.005))\n",
    "\n",
    "#otimizar espaço da figure\n",
    "fig.tight_layout();"
   ]
  },
  {
   "cell_type": "code",
   "execution_count": 62,
   "metadata": {},
   "outputs": [
    {
     "data": {
      "image/png": "[encoded data removed]",
      "text/plain": [
       "<Figure size 576x432 with 1 Axes>"
      ]
     },
     "metadata": {
      "needs_background": "light"
     },
     "output_type": "display_data"
    }
   ],
   "source": [
    "#criando uma figure, axes, alterando tamanho\n",
    "fig, ax = plt.subplots(figsize=(8,6))\n",
    "#criando o gráfico de barras\n",
    "sns.countplot(\"NumCompaniesWorked\", data=voluntary,palette=\"ch:.25\")\n",
    "#adicionando título\n",
    "ax.set_title(\"Demissão Voluntária - Número Cias\", fontdict={'fontsize':15})\n",
    "#mudando e nome e tamanho do label x\n",
    "ax.set_xlabel('Departamento', fontdict={'fontsize':12})\n",
    "#mudando tamanho do label eixo y\n",
    "ax.set_ylabel('Total')\n",
    "#mudando tamanho dos labels dos ticks\n",
    "ax.tick_params(labelsize=12)\n",
    "#aumentando espessura linha inferior\n",
    "ax.spines['bottom'].set_linewidth(2.5)\n",
    "#remoção dos outros três axis\n",
    "for axis in ['top', 'right', 'left']:\n",
    "    ax.spines[axis].set_color(None)\n",
    "#remoção dos ticks\n",
    "ax.tick_params(axis='y', labelleft=False, left=None) \n",
    "\n",
    "#Colocando valores\n",
    "for p in ax.patches:\n",
    "    ax.annotate(str(p.get_height()), (p.get_x() * 1.005, p.get_height() * 1.005))\n",
    "\n",
    "#otimizar espaço da figure\n",
    "fig.tight_layout();"
   ]
  },
  {
   "cell_type": "markdown",
   "metadata": {},
   "source": [
    "=================================================================================================================="
   ]
  },
  {
   "cell_type": "markdown",
   "metadata": {},
   "source": [
    "## Padrão em Relação ao Overtime"
   ]
  },
  {
   "cell_type": "code",
   "execution_count": 64,
   "metadata": {},
   "outputs": [
    {
     "data": {
      "image/png": "[encoded data removed]",
      "text/plain": [
       "<Figure size 576x432 with 1 Axes>"
      ]
     },
     "metadata": {
      "needs_background": "light"
     },
     "output_type": "display_data"
    }
   ],
   "source": [
    "#criando uma figure, axes, alterando tamanho\n",
    "fig, ax = plt.subplots(figsize=(8,6))\n",
    "#criando o gráfico de barras\n",
    "sns.countplot(\"OverTime\", data=termination,palette=\"ch:.25\")\n",
    "#adicionando título\n",
    "ax.set_title(\"Demissão Compulsória - Overtime\", fontdict={'fontsize':15})\n",
    "#mudando e nome e tamanho do label x\n",
    "ax.set_xlabel('Departamento', fontdict={'fontsize':12})\n",
    "#mudando tamanho do label eixo y\n",
    "ax.set_ylabel('Total')\n",
    "#mudando tamanho dos labels dos ticks\n",
    "ax.tick_params(labelsize=12)\n",
    "#aumentando espessura linha inferior\n",
    "ax.spines['bottom'].set_linewidth(2.5)\n",
    "#remoção dos outros três axis\n",
    "for axis in ['top', 'right', 'left']:\n",
    "    ax.spines[axis].set_color(None)\n",
    "#remoção dos ticks\n",
    "ax.tick_params(axis='y', labelleft=False, left=None) \n",
    "\n",
    "#Colocando valores\n",
    "for p in ax.patches:\n",
    "    ax.annotate(str(p.get_height()), (p.get_x() * 1.005, p.get_height() * 1.005))\n",
    "\n",
    "#otimizar espaço da figure\n",
    "fig.tight_layout();"
   ]
  },
  {
   "cell_type": "code",
   "execution_count": 65,
   "metadata": {},
   "outputs": [
    {
     "data": {
      "image/png": "[encoded data removed]",
      "text/plain": [
       "<Figure size 576x432 with 1 Axes>"
      ]
     },
     "metadata": {
      "needs_background": "light"
     },
     "output_type": "display_data"
    }
   ],
   "source": [
    "#criando uma figure, axes, alterando tamanho\n",
    "fig, ax = plt.subplots(figsize=(8,6))\n",
    "#criando o gráfico de barras\n",
    "sns.countplot(\"OverTime\", data=voluntary,palette=\"ch:.25\")\n",
    "#adicionando título\n",
    "ax.set_title(\"Demissão Voluntária - Overtime\", fontdict={'fontsize':15})\n",
    "#mudando e nome e tamanho do label x\n",
    "ax.set_xlabel('Departamento', fontdict={'fontsize':12})\n",
    "#mudando tamanho do label eixo y\n",
    "ax.set_ylabel('Total')\n",
    "#mudando tamanho dos labels dos ticks\n",
    "ax.tick_params(labelsize=12)\n",
    "#aumentando espessura linha inferior\n",
    "ax.spines['bottom'].set_linewidth(2.5)\n",
    "#remoção dos outros três axis\n",
    "for axis in ['top', 'right', 'left']:\n",
    "    ax.spines[axis].set_color(None)\n",
    "#remoção dos ticks\n",
    "ax.tick_params(axis='y', labelleft=False, left=None) \n",
    "\n",
    "#Colocando valores\n",
    "for p in ax.patches:\n",
    "    ax.annotate(str(p.get_height()), (p.get_x() * 1.005, p.get_height() * 1.005))\n",
    "\n",
    "#otimizar espaço da figure\n",
    "fig.tight_layout();"
   ]
  },
  {
   "cell_type": "markdown",
   "metadata": {},
   "source": [
    "=================================================================================================================="
   ]
  },
  {
   "cell_type": "code",
   "execution_count": null,
   "metadata": {},
   "outputs": [],
   "source": []
  }
 ],
 "metadata": {
  "kernelspec": {
   "display_name": "Python 3",
   "language": "python",
   "name": "python3"
  },
  "language_info": {
   "codemirror_mode": {
    "name": "ipython",
    "version": 3
   },
   "file_extension": ".py",
   "mimetype": "text/x-python",
   "name": "python",
   "nbconvert_exporter": "python",
   "pygments_lexer": "ipython3",
   "version": "3.7.6"
  }
 },
 "nbformat": 4,
 "nbformat_minor": 4
}
